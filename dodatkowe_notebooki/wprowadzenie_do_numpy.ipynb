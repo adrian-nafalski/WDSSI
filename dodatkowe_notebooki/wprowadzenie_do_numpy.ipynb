{
  "nbformat": 4,
  "nbformat_minor": 0,
  "metadata": {
    "colab": {
      "provenance": []
    },
    "kernelspec": {
      "name": "python3",
      "display_name": "Python 3"
    },
    "language_info": {
      "name": "python"
    }
  },
  "cells": [
    {
      "cell_type": "markdown",
      "metadata": {
        "id": "snNDONGVqHh_"
      },
      "source": [
        "# Conda vs Pip vs Venv - jaka jest różnica?\n",
        "\n"
      ]
    },
    {
      "cell_type": "markdown",
      "metadata": {
        "id": "ApUisZZqqcE_"
      },
      "source": [
        "### TL;DR\n",
        "\n",
        "Środowisko wirtualne jest przydatne, gdy potrzebujesz tymczasowego środowiska Pythona, które jest odizolowane od głównej instalacji Pythona w systemie operacyjnym. \n",
        "\n",
        "Przykład: instalujemy nowy pakietu, który jest używany tylko raz.\n",
        "\n",
        "`venv` jest menedżerem środowiska (preinstalowanym z Pythonem 3), podczas gdy `pip` jest menedżerem pakietów a `conda` jest obydwoma ( conda zarządza zarówno pakietami, jak i środowiskami)."
      ]
    },
    {
      "cell_type": "markdown",
      "metadata": {
        "id": "A9csgqotrQ1n"
      },
      "source": [
        "Ponieważ conda może zrobić jedno i drugie, możesz również stworzyć nowe środowisko i zainstalować w nim pakiety:\n",
        "```\n",
        "conda create --name my_environment #utwórz nowe środowisko\n",
        "source activate my_environment\n",
        "conda install scikit-learn # instalujemy scikit-learn dla nowo utworzonego środowiska \n",
        "```\n",
        "Zauważ też, że conda jest **niezależna od języka** (chociaż prawdopodobnie, że jest najbardziej popularna do zarządzania pakietami Pythona). Z drugiej strony, oto równoważny sposób robienia rzeczy za pomocą `venv` i `pip`:\n",
        "```\n",
        "python3 -m venv my_environment \n",
        "source my_environment/bin/activate \n",
        "pip install scikit-learn \n",
        "```\n",
        "\n",
        "Wybór zależy od tego, co chce się zrobić. Jeśli zajmujesz się nauką o danych, `conda` jest zalecana. Zobacz Conda: Mity i nieporozumieniaaby uzyskać więcej informacji na ten temat.\n",
        "\n",
        "Jednak w przypadku ogólnego tworzenia oprogramowania w języku Python prawdopodobnie `pip` będzie lepszy.\n",
        "\n",
        "Jeśli jednak tworzysz środowisko za pomocą `conda`, użyj jej do zainstalowania pakietów również w tym środowisku. Jeśli tworzysz środowisko za pomocą `venv`, użyj `pip` do zainstalowania pakietów.\n",
        "\n",
        "#### `Pip` w `conda`:\n",
        "Można zainstalować `pip` w ramach wirtualnego środowiska `conda` i używać w izolacji, np:\n",
        "```\n",
        "conda install -n testenv pip\n",
        "source activate testenv\n",
        "pip <pip command>\n",
        "```\n",
        "\n",
        "#### Przydatne porównania:\n",
        "* [Conda vs. pip vs. virtualenv commands](https://docs.conda.io/projects/conda/en/latest/commands.html#conda-vs-pip-vs-virtualenv-commands)\n"
      ]
    },
    {
      "cell_type": "markdown",
      "metadata": {
        "id": "jkXFzgrovNy9"
      },
      "source": [
        "## Pipenv vs virtualenv vs conda\n",
        "\n",
        "Python ma obecnie trzy popularne sposoby tworzenia wirtualnego środowiska.\n",
        "\n",
        "`Virtualenv` był przez wiele lat domyślnym sposobem tworzenia wirtualnego środowiska. Jest nadal używany przez wielu, chociaż ludzie przechodzą na ulepszone `pipenv` lub `conda` (wyjaśnione poniżej).\n",
        "Dlaczego `virtualenv`później został zastąpiony przez `pipenv`. `Pip` jest zwykle prezainstalowany z Python 2.7.9+ lub 3.4+. Można go zainstalować, pobierając `get-pip.py` z https://bootstrap.pypa.io/ i uruchomiając  w następujący sposób:\n",
        "```\n",
        "cd /path/to/downloadsfolder\n",
        "python get-pip.py\n",
        "```\n",
        "Wyjaśnienie bałaganu z obsługą pakietów:\n",
        "\n",
        "### Pakiety PyPI (oficjalne repozytorium do pobierania bibliotek/programów pythona) spoza standardowej bibliotekeki:\n",
        "* `virtualenv`to bardzo popularne narzędzie, które tworzy izolowane środowiska Pythona dla bibliotek Pythona. Jeśli nie znasz tego narzędzia, gorąco polecam nauczyć się go, ponieważ jest to bardzo przydatne narzędzie.\n",
        "\n",
        "    Działa poprzez zainstalowanie kilku plików w katalogu (np. `env/`), a następnie zmodyfikowanie zmiennej środowiskowej `PATH`, aby poprzedzić ją niestandardowym katalogiem (np `env/bin/`). Plik binarny `python`/`python3`  jest umieszczany w tym katalogu, ale Python jest zaprogramowany tak, aby najpierw szukać bibliotek względem swojej ścieżki, w katalogu środowiska. Nie jest częścią standardowej biblioteki Pythona, ale jest oficjalnie dopuszczony przez PyPA (Python Packaging Authority). Po aktywacji można instalować pakiety w środowisku wirtualnym za pomocą `pip`.\n",
        "\n",
        "* `pyenv` do izolowania wersji Pythona. Na przykład można chcieć przetestować swój kod w Pythonie 2.7, 3.6, 3.7 i 3.8, więc potrzeba sposobu na przełączanie się między nimi. Po aktywacji dodaje prefix do  zmiennej środowiskowej `PATH`: `~/.pyenv/shims`, gdzie znajdują się specjalne pliki pasujące do poleceń Pythona ( python, pip). To nie są kopie poleceń dostarczonych przez Pythona; są to specjalne skrypty, które w locie decydują, którą wersję Pythona uruchomić na podstawie zmiennej środowiskowej `PYENV_VERSION` lub pliku `python-version` lub pliku `~/.pyenv/version`. `pyenv` ułatwia również proces pobierania i instalowania wielu wersji Pythona za pomocą polecenia `pyenv install`.\n",
        "\n",
        "* `pyenv-virtualenv` to wtyczka `pyenv` autorstwa tego samego autora co `pyenv`, umożliwiająca korzystanie `pyenv` i `virtualenv` jednocześnie. Jeśli jednak używasz Pythona 3.3 lub nowszego, `pyenv-virtualenv` spróbuje uruchomić, `python -m venv` jeśli jest dostępny, zamiast `virtualenv`. Możesz używać `virtualenv` i `pyenv` razem bez `pyenv-virtualenv`.\n",
        "\n",
        "* `pipenv` ma na celu łączyć `Pipfile`, `pip` i `virtualenv` do jednego polecenia w linii komend. Katalog `virtualenv` zwykle zostaje umieszczone w `~/.local/share/virtualenvs/XXX`, gdzie `XXX` to hash ścieżki katalogu projektu. Różni się to od `virtualenv`, ponieważ jego katalog zwykle znajduje się w bieżącym katalogu roboczym. `pipenv` ma być używany podczas tworzenia aplikacji opartych o python (w przeciwieństwie do bibliotek). Istnieją alternatywy dla `pipenv`, takie jak `poetry`.\n",
        "\n",
        "### Biblioteka standardowa:\n",
        "* `pyvenv`(nie mylić z `pyenv` w poprzedniej sekcji) to skrypt dostarczony z Pythonem 3, ale przestarzały w Pythonie 3.6, ponieważ miał problemy (nie wspominając o mylącej nazwie). W Pythonie 3.6+ dokładny odpowiednik to `python3 -m venv`.\n",
        "\n",
        "`venv` to pakiet dostarczany z Pythonem 3, z którego można korzystać `python3 -m venv` (chociaż z jakiegoś powodu niektóre dystrybucje rozdzielają go na osobny pakiet dystrybucyjny, na przykład `python3-venv` w Ubuntu/Debian). Służy temu samemu celowi co `virtualenv`, ale ma tylko podzbiór jego funkcji ( zobacz porównanie [tutaj](https://virtualenv.pypa.io/en/latest/) ). \n",
        "\n",
        "Na zajęciach najlepiej ograniczyć się dośrodowisk opartych o `conda`.\n",
        "\n"
      ]
    },
    {
      "cell_type": "markdown",
      "metadata": {
        "id": "wIQSM94h1HOj"
      },
      "source": [
        "# Numpy"
      ]
    },
    {
      "cell_type": "markdown",
      "metadata": {
        "id": "shRN_wdd1MdS"
      },
      "source": [
        "## Ogólnie o Numpy\n",
        "\n",
        "* Numpy to pakiet, który zapewnia dodatkową funkcjonalność, często przydatną w pracy z tablicami do nauki o danych.\n",
        "* Zazwyczaj Numpy jest importowany jako np.\n",
        "* `np.array()` rzuci listę (lub inną kolekcję) jako tablicę numpy.\n",
        "* Tablicę można pokroić w taki sam sposób, jak pokroić listę."
      ]
    },
    {
      "cell_type": "code",
      "metadata": {
        "id": "1UrzzCXa5BIu"
      },
      "source": [
        "import numpy as np"
      ],
      "execution_count": null,
      "outputs": []
    },
    {
      "cell_type": "code",
      "metadata": {
        "id": "Dx6Bp-4a1Jn3",
        "colab": {
          "base_uri": "https://localhost:8080/"
        },
        "outputId": "464903a8-6fe0-4ce7-d483-b3571d053e26"
      },
      "source": [
        "a = np.array([0, 1, 2, 3, 4, 5, 6])\n",
        "print('A is of type:', type(a))\n",
        "print('Print the entire array:', a)\n",
        "print('Print the first value:', a[0])\n",
        "print('Print the first three value:', a[0:3])\n",
        "print('Print from second value till end  of list:', a[2:])\n",
        "print('Print the last value of a numpy array:', a[-1])\n",
        "print('Print up till the 2nd to last value:', a[:-2]) "
      ],
      "execution_count": null,
      "outputs": [
        {
          "output_type": "stream",
          "name": "stdout",
          "text": [
            "A is of type: <class 'numpy.ndarray'>\n",
            "Print the entire array: [0 1 2 3 4 5 6]\n",
            "Print the first value: 0\n",
            "Print the first three value: [0 1 2]\n",
            "Print from second value till end  of list: [2 3 4 5 6]\n",
            "Print the last value of a numpy array: 6\n",
            "Print up till the 2nd to last value: [0 1 2 3 4]\n"
          ]
        }
      ]
    },
    {
      "cell_type": "markdown",
      "metadata": {
        "id": "gQK_MznN1ZZw"
      },
      "source": [
        "## Tablice i funkcje\n",
        "\n",
        "* Naprawdę potężnym aspektem tablic jest możliwość wykonywania obliczeń na tablicach.\n",
        "* Numpy ma kilka możliwych funkcji wymienionych tutaj .\n",
        "* Często możliwe jest wykonanie obliczeń bezpośrednio lub za pomocą funkcji np., jak pokazano poniżej."
      ]
    },
    {
      "cell_type": "code",
      "metadata": {
        "id": "vcNWd9PR1hkQ",
        "colab": {
          "base_uri": "https://localhost:8080/"
        },
        "outputId": "36f696ac-882b-45a2-b842-f9fa4af3b56a"
      },
      "source": [
        "a = np.array([1, 2, 3, 4, 5, 6])\n",
        "b1=10*a\n",
        "b2=np.multiply(10,a)\n",
        "c1=a+b1\n",
        "c2=np.add(a,b1) #This is an alternate way of adding \n",
        "d=np.log(a)\n",
        "e=np.sqrt(a)\n",
        "f=a**2  #This squares the value. \n",
        "\n",
        "np.square([-1j, 1])\n",
        "print('Print the entire array a:', a)\n",
        "print('Print the entire array b1:', b1)\n",
        "print('Print the entire array b2:', b2)\n",
        "print('Print the entire array b3:', c1)\n",
        "print('Print the entire array c2:', c2)\n",
        "print('Print the entire array d:', d)\n",
        "print('Print the entire array e:', e)\n",
        "print('Print the entire array f:', f)"
      ],
      "execution_count": null,
      "outputs": [
        {
          "output_type": "stream",
          "name": "stdout",
          "text": [
            "Print the entire array a: [1 2 3 4 5 6]\n",
            "Print the entire array b1: [10 20 30 40 50 60]\n",
            "Print the entire array b2: [10 20 30 40 50 60]\n",
            "Print the entire array b3: [11 22 33 44 55 66]\n",
            "Print the entire array c2: [11 22 33 44 55 66]\n",
            "Print the entire array d: [0.         0.69314718 1.09861229 1.38629436 1.60943791 1.79175947]\n",
            "Print the entire array e: [1.         1.41421356 1.73205081 2.         2.23606798 2.44948974]\n",
            "Print the entire array f: [ 1  4  9 16 25 36]\n"
          ]
        }
      ]
    },
    {
      "cell_type": "markdown",
      "metadata": {
        "id": "3pI0Jr4z11A7"
      },
      "source": [
        "### Operacje i tworzenie tablic\n",
        "\n",
        "* Funkcja aranżacji wygeneruje tablicę.\n",
        "* `reshape` zmienia strukturę tablicy na n wierszy i m kolumn. a=a.reshape(n, m)\n",
        "* `ones` utworzy tablicę ze wszystkimi jedynkami a `zeros` wszystkimi zerami.\n",
        "* Dzięki `reshape` można uzyskać odpowiednią strukturę, ale upewnnależy się upewnić, że rozmiar pasuje do właściwych wymiarów."
      ]
    },
    {
      "cell_type": "code",
      "metadata": {
        "id": "pe171EJE2QQb",
        "colab": {
          "base_uri": "https://localhost:8080/"
        },
        "outputId": "354f7489-49ba-4e96-91b3-5a99b0a329a7"
      },
      "source": [
        "a = np.arange(15) \n",
        "print(a)\n",
        "a2 = np.arange( 0, 15, 1 ) #Alternate specification with np.arrange(start, end, step)\n",
        "print(a2)\n",
        "a=a.reshape(3, 5)\n",
        "print(a)\n",
        "b= np.ones(shape=(3, 5), dtype=float)\n",
        "print(b)\n",
        "c= np.zeros(shape=(3, 5), dtype=int)\n",
        "print(c)\n",
        "d= np.full((3, 5), 4, dtype=int)\n",
        "print(d)\n",
        "e= np.arange( 0, 1.5, .1 ).reshape(3,5)  #String together creations and reshaping. Also can use decimals.\n",
        "print(e)"
      ],
      "execution_count": null,
      "outputs": [
        {
          "output_type": "stream",
          "name": "stdout",
          "text": [
            "[ 0  1  2  3  4  5  6  7  8  9 10 11 12 13 14]\n",
            "[ 0  1  2  3  4  5  6  7  8  9 10 11 12 13 14]\n",
            "[[ 0  1  2  3  4]\n",
            " [ 5  6  7  8  9]\n",
            " [10 11 12 13 14]]\n",
            "[[1. 1. 1. 1. 1.]\n",
            " [1. 1. 1. 1. 1.]\n",
            " [1. 1. 1. 1. 1.]]\n",
            "[[0 0 0 0 0]\n",
            " [0 0 0 0 0]\n",
            " [0 0 0 0 0]]\n",
            "[[4 4 4 4 4]\n",
            " [4 4 4 4 4]\n",
            " [4 4 4 4 4]]\n",
            "[[0.  0.1 0.2 0.3 0.4]\n",
            " [0.5 0.6 0.7 0.8 0.9]\n",
            " [1.  1.1 1.2 1.3 1.4]]\n"
          ]
        }
      ]
    },
    {
      "cell_type": "code",
      "metadata": {
        "id": "vRQT_Ciy2ch0",
        "colab": {
          "base_uri": "https://localhost:8080/"
        },
        "outputId": "b6626e94-b712-41fe-bc41-d4524b03d56c"
      },
      "source": [
        "e = np.arange( 0, 1.5, .1 ).reshape(3,5) \n",
        "print(e)"
      ],
      "execution_count": null,
      "outputs": [
        {
          "output_type": "stream",
          "name": "stdout",
          "text": [
            "[[0.  0.1 0.2 0.3 0.4]\n",
            " [0.5 0.6 0.7 0.8 0.9]\n",
            " [1.  1.1 1.2 1.3 1.4]]\n"
          ]
        }
      ]
    },
    {
      "cell_type": "markdown",
      "metadata": {
        "id": "LmjmkCev4NRc"
      },
      "source": [
        "### Znaczenie kształtu tablicy\n",
        "Możena powiedzieć: \n",
        "> Wiem, dosłownie, że dana to tablica to lista liczb i lista list, w których każda lista zawiera tylko liczbę,\n",
        "\n",
        "ale to trochę nieprzydatny sposób myślenia o tym.\n",
        "\n",
        "Najlepszym sposobem myślenia o tablicach NumPy jest to, że składają się z dwóch części:\n",
        "* **bufora** danych, który jest po prostu blokiem surowych elementów, oraz\n",
        "* **widoku**, który opisuje, jak interpretować bufor danych.\n",
        "\n",
        "Na przykład, jeśli utworzymy tablicę 12 liczb całkowitych:"
      ]
    },
    {
      "cell_type": "code",
      "metadata": {
        "colab": {
          "base_uri": "https://localhost:8080/"
        },
        "id": "mTsW-N8j48UI",
        "outputId": "7c9cf386-9eac-4c8b-eb88-cd8a16457664"
      },
      "source": [
        "a = np.arange(12)\n",
        "a"
      ],
      "execution_count": null,
      "outputs": [
        {
          "output_type": "execute_result",
          "data": {
            "text/plain": [
              "array([ 0,  1,  2,  3,  4,  5,  6,  7,  8,  9, 10, 11])"
            ]
          },
          "metadata": {},
          "execution_count": 4
        }
      ]
    },
    {
      "cell_type": "code",
      "metadata": {
        "colab": {
          "base_uri": "https://localhost:8080/"
        },
        "id": "6WHua1re5Mpf",
        "outputId": "34944797-8cd1-4ca8-a7e4-9a4e9c61b326"
      },
      "source": [
        "a.flags"
      ],
      "execution_count": null,
      "outputs": [
        {
          "output_type": "execute_result",
          "data": {
            "text/plain": [
              "  C_CONTIGUOUS : True\n",
              "  F_CONTIGUOUS : True\n",
              "  OWNDATA : True\n",
              "  WRITEABLE : True\n",
              "  ALIGNED : True\n",
              "  WRITEBACKIFCOPY : False\n",
              "  UPDATEIFCOPY : False"
            ]
          },
          "metadata": {},
          "execution_count": 92
        }
      ]
    },
    {
      "cell_type": "code",
      "metadata": {
        "colab": {
          "base_uri": "https://localhost:8080/"
        },
        "id": "fETuW1Hn5RFX",
        "outputId": "bd727066-1943-4d74-8499-0a22debaa8ff"
      },
      "source": [
        "a.dtype"
      ],
      "execution_count": null,
      "outputs": [
        {
          "output_type": "execute_result",
          "data": {
            "text/plain": [
              "dtype('int64')"
            ]
          },
          "metadata": {},
          "execution_count": 93
        }
      ]
    },
    {
      "cell_type": "code",
      "metadata": {
        "colab": {
          "base_uri": "https://localhost:8080/"
        },
        "id": "GiAJnzdQ5XVh",
        "outputId": "08db19bd-4fde-4a76-b8a5-a733da8cb551"
      },
      "source": [
        "a.itemsize"
      ],
      "execution_count": null,
      "outputs": [
        {
          "output_type": "execute_result",
          "data": {
            "text/plain": [
              "8"
            ]
          },
          "metadata": {},
          "execution_count": 94
        }
      ]
    },
    {
      "cell_type": "markdown",
      "source": [
        "NumPy wykorzystuje `stride` do przechowywania informacji ile bajtów przeskoczyć buforze danych."
      ],
      "metadata": {
        "id": "IdFLiljcDMxb"
      }
    },
    {
      "cell_type": "code",
      "metadata": {
        "colab": {
          "base_uri": "https://localhost:8080/"
        },
        "id": "_Dmuuao95bL3",
        "outputId": "4c9425d7-b826-46bb-c0c8-a59502b94a28"
      },
      "source": [
        "a.strides"
      ],
      "execution_count": null,
      "outputs": [
        {
          "output_type": "execute_result",
          "data": {
            "text/plain": [
              "(8,)"
            ]
          },
          "metadata": {},
          "execution_count": 95
        }
      ]
    },
    {
      "cell_type": "code",
      "metadata": {
        "colab": {
          "base_uri": "https://localhost:8080/"
        },
        "id": "djjFqDEE5fGo",
        "outputId": "f3916c88-bc34-408a-9dfb-0bf6dd279ff9"
      },
      "source": [
        "a.shape"
      ],
      "execution_count": null,
      "outputs": [
        {
          "output_type": "execute_result",
          "data": {
            "text/plain": [
              "(12,)"
            ]
          },
          "metadata": {},
          "execution_count": 96
        }
      ]
    },
    {
      "cell_type": "markdown",
      "metadata": {
        "id": "Vz6hi2RW5l_v"
      },
      "source": [
        "Tutaj kształt `(12,)` oznacza, że ​​tablica jest indeksowana pojedynczym indeksem, który biegnie od `0` do `11`. Koncepcyjnie, jeśli oznaczymy ten pojedynczy indeks `i`, tablica awygląda tak:\n",
        "\n",
        "```\n",
        "i= 0    1    2    3    4    5    6    7    8    9   10   11\n",
        "┌────┬────┬────┬────┬────┬────┬────┬────┬────┬────┬────┬────┐\n",
        "│  0 │  1 │  2 │  3 │  4 │  5 │  6 │  7 │  8 │  9 │ 10 │ 11 │\n",
        "└────┴────┴────┴────┴────┴────┴────┴────┴────┴────┴────┴────┘\n",
        "```"
      ]
    },
    {
      "cell_type": "markdown",
      "metadata": {
        "id": "yuP5deNk56X6"
      },
      "source": [
        "Jeśli zmienimy kształt tablicy, nie zmieni to bufora danych. Zamiast tego tworzy nowy widok, który opisuje inny sposób interpretacji danych. Więc później:"
      ]
    },
    {
      "cell_type": "code",
      "metadata": {
        "colab": {
          "base_uri": "https://localhost:8080/"
        },
        "id": "1WHT86gP59TD",
        "outputId": "6e1ac2c7-472d-44c6-dd0c-bda66fdc27f0"
      },
      "source": [
        "b = a.reshape((3, 4))\n",
        "b"
      ],
      "execution_count": null,
      "outputs": [
        {
          "output_type": "execute_result",
          "data": {
            "text/plain": [
              "array([[ 0,  1,  2,  3],\n",
              "       [ 4,  5,  6,  7],\n",
              "       [ 8,  9, 10, 11]])"
            ]
          },
          "metadata": {},
          "execution_count": 97
        }
      ]
    },
    {
      "cell_type": "markdown",
      "metadata": {
        "id": "mFv_HB0a6CEj"
      },
      "source": [
        "tablica `b` ma taki sam bufor danych jak `a`, ale teraz jest indeksowana dwoma indeksami, które biegną odpowiednio od `0` do `2` i od `0` do `3`. Jeśli oznaczymy dwa indeksy `i` i `j`, tablica będzie wyglądać tak:\n",
        "\n",
        "```\n",
        "i= 0    0    0    0    1    1    1    1    2    2    2    2\n",
        "j= 0    1    2    3    0    1    2    3    0    1    2    3\n",
        "┌────┬────┬────┬────┬────┬────┬────┬────┬────┬────┬────┬────┐\n",
        "│  0 │  1 │  2 │  3 │  4 │  5 │  6 │  7 │  8 │  9 │ 10 │ 11 │\n",
        "└────┴────┴────┴────┴────┴────┴────┴────┴────┴────┴────┴────┘\n",
        "```\n",
        "co oznacza że:"
      ]
    },
    {
      "cell_type": "code",
      "metadata": {
        "colab": {
          "base_uri": "https://localhost:8080/"
        },
        "id": "AW7a331A6a89",
        "outputId": "8007046d-c55b-45e7-d6f4-836872b734af"
      },
      "source": [
        "b[0,3]"
      ],
      "execution_count": null,
      "outputs": [
        {
          "output_type": "execute_result",
          "data": {
            "text/plain": [
              "3"
            ]
          },
          "metadata": {},
          "execution_count": 98
        }
      ]
    },
    {
      "cell_type": "markdown",
      "metadata": {
        "id": "eBkkf6Ip69Be"
      },
      "source": [
        "Widać, że drugi indeks zmienia się szybko, a pierwszy indeks powoli. Aby było odwrotnie, można określić parametr `order`:"
      ]
    },
    {
      "cell_type": "code",
      "metadata": {
        "colab": {
          "base_uri": "https://localhost:8080/"
        },
        "id": "pZpriP3p7I0a",
        "outputId": "fa2dcb95-78b3-4a18-c877-8182e152f599"
      },
      "source": [
        " c = a.reshape((3, 4), order='F')\n",
        " c"
      ],
      "execution_count": null,
      "outputs": [
        {
          "output_type": "execute_result",
          "data": {
            "text/plain": [
              "array([[ 0,  3,  6,  9],\n",
              "       [ 1,  4,  7, 10],\n",
              "       [ 2,  5,  8, 11]])"
            ]
          },
          "metadata": {},
          "execution_count": 100
        }
      ]
    },
    {
      "cell_type": "markdown",
      "metadata": {
        "id": "nzvC377T7MVp"
      },
      "source": [
        "Co należy interpretować jako:\n",
        "```\n",
        "i= 0    1    2    0    1    2    0    1    2    0    1    2\n",
        "j= 0    0    0    1    1    1    2    2    2    3    3    3\n",
        "┌────┬────┬────┬────┬────┬────┬────┬────┬────┬────┬────┬────┐\n",
        "│  0 │  1 │  2 │  3 │  4 │  5 │  6 │  7 │  8 │  9 │ 10 │ 11 │\n",
        "└────┴────┴────┴────┴────┴────┴────┴────┴────┴────┴────┴────┘\n",
        "```\n",
        "i co oznacza, że:"
      ]
    },
    {
      "cell_type": "code",
      "metadata": {
        "colab": {
          "base_uri": "https://localhost:8080/"
        },
        "id": "dbl786WG7ZDh",
        "outputId": "0b745dfc-9c75-4b4f-8aa9-e87533dd7e52"
      },
      "source": [
        "c[0,3]"
      ],
      "execution_count": null,
      "outputs": [
        {
          "output_type": "execute_result",
          "data": {
            "text/plain": [
              "9"
            ]
          },
          "metadata": {},
          "execution_count": 101
        }
      ]
    },
    {
      "cell_type": "markdown",
      "metadata": {
        "id": "r_9O1MfF70_k"
      },
      "source": [
        "Teraz powinno być jasne, co to oznacza, że tablica ma kształt z jednym lub więcej wymiarami o rozmiarze `1`. Po zmianie kształtu na:"
      ]
    },
    {
      "cell_type": "code",
      "metadata": {
        "colab": {
          "base_uri": "https://localhost:8080/"
        },
        "id": "gMtkPMNL75UZ",
        "outputId": "d06a97f6-8889-4436-e1db-fae1a98274d7"
      },
      "source": [
        "d = a.reshape((12, 1))\n",
        "d"
      ],
      "execution_count": null,
      "outputs": [
        {
          "output_type": "execute_result",
          "data": {
            "text/plain": [
              "array([[ 0],\n",
              "       [ 1],\n",
              "       [ 2],\n",
              "       [ 3],\n",
              "       [ 4],\n",
              "       [ 5],\n",
              "       [ 6],\n",
              "       [ 7],\n",
              "       [ 8],\n",
              "       [ 9],\n",
              "       [10],\n",
              "       [11]])"
            ]
          },
          "metadata": {},
          "execution_count": 102
        }
      ]
    },
    {
      "cell_type": "markdown",
      "metadata": {
        "id": "YppsfKvb8EAN"
      },
      "source": [
        "Tablica `d` jest indeksowana dwoma indeksami, z których pierwszy ma wartość od `0` do `11`, a drugi indeks ma zawsze wartość `0`:\n",
        "```\n",
        "i= 0    1    2    3    4    5    6    7    8    9   10   11\n",
        "j= 0    0    0    0    0    0    0    0    0    0    0    0\n",
        "┌────┬────┬────┬────┬────┬────┬────┬────┬────┬────┬────┬────┐\n",
        "│  0 │  1 │  2 │  3 │  4 │  5 │  6 │  7 │  8 │  9 │ 10 │ 11 │\n",
        "└────┴────┴────┴────┴────┴────┴────┴────┴────┴────┴────┴────┘\n",
        "```\n",
        "a więc:"
      ]
    },
    {
      "cell_type": "code",
      "metadata": {
        "colab": {
          "base_uri": "https://localhost:8080/"
        },
        "id": "tHjhOPOc8dS9",
        "outputId": "67721a88-6faf-43ee-b9c7-23ca716985bf"
      },
      "source": [
        "d[10,0]"
      ],
      "execution_count": null,
      "outputs": [
        {
          "output_type": "execute_result",
          "data": {
            "text/plain": [
              "10"
            ]
          },
          "metadata": {},
          "execution_count": 103
        }
      ]
    },
    {
      "cell_type": "markdown",
      "metadata": {
        "id": "roTW8ogh8pIe"
      },
      "source": [
        "Wymiar długości `1` jest „darmowy” (w pewnym sensie), więc nic nie stoi na przeszkodzie, by:"
      ]
    },
    {
      "cell_type": "code",
      "metadata": {
        "colab": {
          "base_uri": "https://localhost:8080/"
        },
        "id": "I3S-iDyB8ryt",
        "outputId": "f2a682b7-9981-41cb-cdd2-3539fc4dffba"
      },
      "source": [
        "print(a)\n",
        "e = a.reshape((1, 2, 1, 6, 1))\n",
        "\n",
        "# Jak będzie wyglądać tablica e?\n",
        "# e"
      ],
      "execution_count": null,
      "outputs": [
        {
          "output_type": "stream",
          "name": "stdout",
          "text": [
            "[ 0  1  2  3  4  5  6  7  8  9 10 11]\n"
          ]
        }
      ]
    },
    {
      "cell_type": "markdown",
      "metadata": {
        "id": "f-I_b6V983Ld"
      },
      "source": [
        "**Zadanie:**\n",
        "\n",
        "Jak będzie wyglądać indeks dla tej tablicy.\n",
        "\n",
        "------\n",
        ".\n",
        "\n",
        ".\n",
        "\n",
        ".\n",
        "Odp:\n",
        "dając tablicę indeksowaną w ten sposób:\n",
        "```\n",
        "i= 0    0    0    0    0    0    0    0    0    0    0    0\n",
        "j= 0    0    0    0    0    0    1    1    1    1    1    1\n",
        "k= 0    0    0    0    0    0    0    0    0    0    0    0\n",
        "l= 0    1    2    3    4    5    0    1    2    3    4    5\n",
        "m= 0    0    0    0    0    0    0    0    0    0    0    0\n",
        "┌────┬────┬────┬────┬────┬────┬────┬────┬────┬────┬────┬────┐\n",
        "│  0 │  1 │  2 │  3 │  4 │  5 │  6 │  7 │  8 │  9 │ 10 │ 11 │\n",
        "└────┴────┴────┴────┴────┴────┴────┴────┴────┴────┴────┴────┘\n",
        "```\n",
        "a więc:"
      ]
    },
    {
      "cell_type": "code",
      "metadata": {
        "id": "MI1_E1318_zm"
      },
      "source": [
        "# What is the result of the below:\n",
        "\n",
        "#e[0,1,0,0,0]"
      ],
      "execution_count": null,
      "outputs": []
    },
    {
      "cell_type": "markdown",
      "metadata": {
        "id": "vBTWhI6J9dq5"
      },
      "source": [
        "Ponieważ `numpy.reshape` po prostu tworzy nowy widok, nie powinno się obawiać używania go, gdy jest to konieczne. Jest to właściwe narzędzie, gdy chce się zindeksować tablicę w inny sposób.\n",
        "\n",
        "Jednak w długich obliczeniach zwykle możliwe jest skonstruowanie tablic o \"właściwym\" kształcie od razu, a tym samym zminimalizowanie liczby przekształceń i transpozycji. Często nie dostrzegając faktycznego kontekstu, który doprowadził do potrzeby przekształcenia, wcześniej trudno powiedzieć, co należy zmienić."
      ]
    },
    {
      "cell_type": "markdown",
      "metadata": {
        "id": "FnapSK1E9Gc-"
      },
      "source": [
        "[Więcej informacji o implementacji tablic w NumPy](http://docs.scipy.org/doc/numpy/reference/internals.html)"
      ]
    },
    {
      "cell_type": "markdown",
      "metadata": {
        "id": "Q5DewwWQ-eQo"
      },
      "source": [
        "### Struktura tablic\n",
        "\n",
        "Rzeczywiste dane tablicy numpy są przechowywane w jednorodnym i ciągłym bloku pamięci zwanym buforem danych. Używając (domyślnego) porządku `row-major` (\"najpierw wiersz\": `[#wiersza, #kolumny]`),\n",
        "\n",
        "![image.png](data:image/png;base64,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)"
      ]
    },
    {
      "cell_type": "markdown",
      "metadata": {
        "id": "-VRzpxchABfG"
      },
      "source": [
        " tablica 2D wygląda tak:\n",
        "\n",
        " ![image.png](data:image/png;base64,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)"
      ]
    },
    {
      "cell_type": "markdown",
      "metadata": {
        "id": "L6ukbqSXAN4m"
      },
      "source": [
        "Aby odwzorować indeksy `i,j,k,...` tablicy wielowymiarowej na pozycje w buforze danych (przesunięcie, w bajtach), NumPy używa pojęcia `strides`. Kroki to liczba bajtów do przeskoczenia w pamięci w celu przejścia z jednego elementu do następnego elementu wzdłuż każdego kierunku/wymiaru tablicy. Innymi słowy, jest to separacja bajtów między kolejnymi elementami dla każdego wymiaru.\n",
        "\n",
        "Np.:"
      ]
    },
    {
      "cell_type": "code",
      "metadata": {
        "colab": {
          "base_uri": "https://localhost:8080/"
        },
        "id": "sEHDnDlVAyfG",
        "outputId": "321f5f0f-05cf-43c6-f520-6e7196b44c40"
      },
      "source": [
        "a = np.arange(1,10, dtype='int32').reshape(3,3)\n",
        "a"
      ],
      "execution_count": null,
      "outputs": [
        {
          "output_type": "execute_result",
          "data": {
            "text/plain": [
              "array([[1, 2, 3],\n",
              "       [4, 5, 6],\n",
              "       [7, 8, 9]], dtype=int32)"
            ]
          },
          "metadata": {},
          "execution_count": 106
        }
      ]
    },
    {
      "cell_type": "markdown",
      "metadata": {
        "id": "AjFlD5P5A2Zl"
      },
      "source": [
        "Ta tablica 2D ma dwa kierunki (osie; `axis`), osie-0 (przebiegające pionowo w dół przez rzędy) i oś-1 (przebiegające poziomo przez kolumny), przy czym każdy element ma rozmiar:"
      ]
    },
    {
      "cell_type": "code",
      "metadata": {
        "colab": {
          "base_uri": "https://localhost:8080/"
        },
        "id": "pp9WWsk0A_Z_",
        "outputId": "36bcd57e-ddfd-4100-c2d2-12e6dab8d16a"
      },
      "source": [
        "a.itemsize  # in bytes"
      ],
      "execution_count": null,
      "outputs": [
        {
          "output_type": "execute_result",
          "data": {
            "text/plain": [
              "4"
            ]
          },
          "metadata": {},
          "execution_count": 107
        }
      ]
    },
    {
      "cell_type": "markdown",
      "metadata": {
        "id": "EF5ltSbEBL6s"
      },
      "source": [
        "Tak więc, aby przejść od `a[0, 0] -> a[0, 1]`(przesuwając się poziomo wzdłuż zerowego wiersza, od zerowej kolumny do pierwszej kolumny) krok bajtu w buforze danych wynosi `4`. To samo dla `a[0, 1] -> a[0, 2]`, `a[1, 0] -> a[1, 1]` itd. Oznacza to, że liczba kroków dla kierunku poziomego (oś -1) to `4` bajty.\n",
        "\n",
        "_Czemu `4`? Przeanalizujemy w następnch sekcjach_\n",
        "\n"
      ]
    },
    {
      "cell_type": "markdown",
      "metadata": {
        "id": "NjsqftQWJQ9i"
      },
      "source": [
        "Jednak aby przejść z `a[0, 0] -> a[1, 0]`(przesuwając się pionowo wzdłuż zerowej kolumny, od zerowego rzędu do pierwszego rzędu), musisz najpierw przejść przez wszystkie pozostałe elementy w zerowym rzędzie, aby dostać się do pierwszego rzędu, a następnie przejść przez pierwszy rząd dostać się do pozycji `a[1, 0]`, czyli `a[0, 0] -> a[0, 1] -> a[0, 2] -> a[1, 0]`.\n",
        "\n",
        "Dlatego liczba kroków w kierunku pionowym (oś-0) wynosi `3*4 = 12` bajtów.\n",
        "\n",
        "Zauważ, że przejście od `a[0, 2] -> a[1, 0]` i ogólnie od ostatniego elementu w `i`-tym wierszu do pierwszego elementu w `(i+1)`-tym wierszu również zajmuje `4` bajty, ponieważ tablica jest przechowywana w kolejności _najpierw_wiersz_.\n",
        "\n",
        "Dlatego"
      ]
    },
    {
      "cell_type": "code",
      "metadata": {
        "colab": {
          "base_uri": "https://localhost:8080/"
        },
        "id": "rndX5qraKMhB",
        "outputId": "e525704d-0699-4955-b199-cb79f167322c"
      },
      "source": [
        "a.strides  # (strides[0], strides[1])"
      ],
      "execution_count": null,
      "outputs": [
        {
          "output_type": "execute_result",
          "data": {
            "text/plain": [
              "(12, 4)"
            ]
          },
          "metadata": {},
          "execution_count": 108
        }
      ]
    },
    {
      "cell_type": "markdown",
      "metadata": {
        "id": "y-PgTxsGKdE4"
      },
      "source": [
        "Należy pamiętać, że kroki w kierunku poziomym (oś-1), `strides[1]`, tablicy 2D nie muszą być równe rozmiarowi elementu (np. tablica z głównym porządkiem wg. kolumny) - transponowana:"
      ]
    },
    {
      "cell_type": "code",
      "metadata": {
        "colab": {
          "base_uri": "https://localhost:8080/"
        },
        "id": "I5kXMiLMKoG0",
        "outputId": "298b358c-8fad-413c-b71c-dd842b06630f"
      },
      "source": [
        "t = np.array([[1, 4, 7],\n",
        "              [2, 5, 8],\n",
        "              [3, 6, 9]], dtype='int32')\n",
        "print(t)\n",
        "print(\"Strinde t: \" + str(t.strides))\n",
        "print(t.T)\n",
        "print(\"Strinde t.T: \" + str(t.T.strides))"
      ],
      "execution_count": null,
      "outputs": [
        {
          "output_type": "stream",
          "name": "stdout",
          "text": [
            "[[1 4 7]\n",
            " [2 5 8]\n",
            " [3 6 9]]\n",
            "Strinde t: (12, 4)\n",
            "[[1 2 3]\n",
            " [4 5 6]\n",
            " [7 8 9]]\n",
            "Strinde t.T: (4, 12)\n"
          ]
        }
      ]
    },
    {
      "cell_type": "markdown",
      "metadata": {
        "id": "rsJKxcgiN6En"
      },
      "source": [
        "Tutaj `strides[1]` jest wielokrotnością rozmiatu elem. Chociaż tablica `t` wygląda identycznie jak tablica `a`, jest to inna tablica: wewnętrznie `t` jest przechowywana jako `|1|4|7|2|5|8|3|6|9|` (ponieważ transpozycja nie wpływa na bufor danych, a jedynie zamienia kroki i kształt), podczas gdy `a` jako `|1|2|3|4|5|6|7|8|9|`. \n",
        "\n",
        "To, co sprawia, że ​​wyglądają podobnie, to różne `strides`. Oznacza to, że krok bajtów for `t[0, 0] -> t[0, 1]` to `3*4=12` bajtów, i dla `t[0, 0] -> t[1, 0]` to `4` bajty, podczas gdy dla `a[0, 0] -> a[0, 1]` to `4` bajty, a dla `a[0, 0] -> a[1, 0]` to `12` bajtów."
      ]
    },
    {
      "cell_type": "markdown",
      "metadata": {
        "id": "TnRHPShKI75j"
      },
      "source": [
        "## Definiowanie typu elementów tablicy"
      ]
    },
    {
      "cell_type": "code",
      "metadata": {
        "colab": {
          "base_uri": "https://localhost:8080/"
        },
        "id": "CkZUzEBYCL7h",
        "outputId": "9bb5bbf5-71c4-422f-cdda-2612db64c4fd"
      },
      "source": [
        "print(np.dtype(float).itemsize)\n",
        "print(np.dtype(np.float32).itemsize)\n",
        "print(np.dtype('S10').itemsize) #10 byte String also `a`\n",
        "print(np.dtype('S5').itemsize)"
      ],
      "execution_count": null,
      "outputs": [
        {
          "output_type": "stream",
          "name": "stdout",
          "text": [
            "8\n",
            "4\n",
            "10\n",
            "5\n"
          ]
        }
      ]
    },
    {
      "cell_type": "markdown",
      "metadata": {
        "id": "E7o2laxOHdls"
      },
      "source": [
        "Definiowanie typu:\n",
        "\n",
        "| Znak \t| Opis                   \t| Przykład                         \t|\n",
        "|------\t|------------------------\t|----------------------------------\t|\n",
        "| b  \t| Byte                   \t| np.dtype('b')                    \t|\n",
        "| i    \t| Signed integer         \t| np.dtype('i4') == np.int32       \t|\n",
        "| u    \t| Unsigned integer       \t| np.dtype('u1') == np.uint8       \t|\n",
        "| f    \t| Floating point         \t| np.dtype('f8') == np.int64       \t|\n",
        "| c    \t| Complex floating point \t| np.dtype('c16') == np.complex128 \t|\n",
        "| S    \t| String                 \t| np.dtype('S5')                   \t|\n",
        "| U    \t| Unicode string         \t| np.dtype('U') == np.str_         \t|\n",
        "| V    \t| Raw data (void)        \t| np.dtype('V') == np.void         \t|\n"
      ]
    },
    {
      "cell_type": "markdown",
      "metadata": {
        "id": "xUCYKV06EWZm"
      },
      "source": [
        "Możemy też określić rozmiar całej tablicy:"
      ]
    },
    {
      "cell_type": "code",
      "metadata": {
        "colab": {
          "base_uri": "https://localhost:8080/"
        },
        "id": "LLnI28uoETJ_",
        "outputId": "9f66e8e9-107a-4843-b026-6a7875983975"
      },
      "source": [
        "print(np.arange(100).itemsize) #by default float\n",
        "print(np.arange(100).nbytes)\n",
        "arr = np.arange(10)\n",
        "array_size = arr.size * arr.itemsize\n",
        "print(\"Array size is: \", array_size)\n",
        "print(np.array(2, dtype='int32').itemsize) # int 32 size\n",
        "print(np.arange(10, dtype='int32').itemsize) # int 32 size\n",
        "print(np.arange(10, dtype='int32').nbytes) # int 32 size\n"
      ],
      "execution_count": null,
      "outputs": [
        {
          "output_type": "stream",
          "name": "stdout",
          "text": [
            "8\n",
            "800\n",
            "Array size is:  80\n",
            "4\n",
            "4\n",
            "40\n"
          ]
        }
      ]
    },
    {
      "cell_type": "markdown",
      "metadata": {
        "id": "hmTIBjRISeDC"
      },
      "source": [
        "## Łączenie tablic numpy\n",
        "* `concatenate` połączy razem listę numpy tablic `np.concatenate([a,b])`\n",
        "* `vstack` będzie układał w stos tablice \n",
        "* Domyślnie: start =`0`, koniec =`ostatni` i krok: `1`.\n",
        "* Aby wydrukować całą tablicę, pozostaw pole start/stop/step puste `a[::]`"
      ]
    },
    {
      "cell_type": "code",
      "metadata": {
        "colab": {
          "base_uri": "https://localhost:8080/"
        },
        "id": "zCtSRwPwTBVI",
        "outputId": "b35805d8-bc04-4216-afbb-345bb969c849"
      },
      "source": [
        "a = np.arange(5)\n",
        "b=np.concatenate([a,a])\n",
        "c=np.vstack([a,a])\n",
        "d=np.hstack([c,c])\n",
        "print('a:',a,'\\nb:',b,'\\nc:',c,'\\nd:',d)"
      ],
      "execution_count": null,
      "outputs": [
        {
          "output_type": "stream",
          "name": "stdout",
          "text": [
            "a: [0 1 2 3 4] \n",
            "b: [0 1 2 3 4 0 1 2 3 4] \n",
            "c: [[0 1 2 3 4]\n",
            " [0 1 2 3 4]] \n",
            "d: [[0 1 2 3 4 0 1 2 3 4]\n",
            " [0 1 2 3 4 0 1 2 3 4]]\n"
          ]
        }
      ]
    },
    {
      "cell_type": "markdown",
      "metadata": {
        "id": "y1m12CU-TdaW"
      },
      "source": [
        "## Zapełnianie tablic z plików z danymi\n",
        "Można wziąć listę z zewnętrznego zbioru danych i zmienić ją na tablicę numpy."
      ]
    },
    {
      "cell_type": "code",
      "metadata": {
        "colab": {
          "base_uri": "https://localhost:8080/"
        },
        "id": "PfGF8xPzTYBr",
        "outputId": "5ccb4462-0837-4b31-8602-c028620e06b5"
      },
      "source": [
        "import csv\n",
        "csv_file_object = csv.reader(open('iris.csv', newline=''), delimiter=',')\n",
        "\n",
        "data=[]\n",
        "header = next(csv_file_object) #\n",
        "for row in csv_file_object:  \n",
        "    data.append(row)  # add each row to the \n",
        "data = np.array(data)\n",
        "print(data)"
      ],
      "execution_count": null,
      "outputs": [
        {
          "output_type": "stream",
          "name": "stdout",
          "text": [
            "[['5.1' '3.5' '1.4' '0.2' 'setosa']\n",
            " ['4.9' '3' '1.4' '0.2' 'setosa']\n",
            " ['4.7' '3.2' '1.3' '0.2' 'setosa']\n",
            " ['4.6' '3.1' '1.5' '0.2' 'setosa']\n",
            " ['5' '3.6' '1.4' '0.2' 'setosa']\n",
            " ['5.4' '3.9' '1.7' '0.4' 'setosa']\n",
            " ['4.6' '3.4' '1.4' '0.3' 'setosa']\n",
            " ['5' '3.4' '1.5' '0.2' 'setosa']\n",
            " ['4.4' '2.9' '1.4' '0.2' 'setosa']\n",
            " ['4.9' '3.1' '1.5' '0.1' 'setosa']\n",
            " ['5.4' '3.7' '1.5' '0.2' 'setosa']\n",
            " ['4.8' '3.4' '1.6' '0.2' 'setosa']\n",
            " ['4.8' '3' '1.4' '0.1' 'setosa']\n",
            " ['4.3' '3' '1.1' '0.1' 'setosa']\n",
            " ['5.8' '4' '1.2' '0.2' 'setosa']\n",
            " ['5.7' '4.4' '1.5' '0.4' 'setosa']\n",
            " ['5.4' '3.9' '1.3' '0.4' 'setosa']\n",
            " ['5.1' '3.5' '1.4' '0.3' 'setosa']\n",
            " ['5.7' '3.8' '1.7' '0.3' 'setosa']\n",
            " ['5.1' '3.8' '1.5' '0.3' 'setosa']\n",
            " ['5.4' '3.4' '1.7' '0.2' 'setosa']\n",
            " ['5.1' '3.7' '1.5' '0.4' 'setosa']\n",
            " ['4.6' '3.6' '1' '0.2' 'setosa']\n",
            " ['5.1' '3.3' '1.7' '0.5' 'setosa']\n",
            " ['4.8' '3.4' '1.9' '0.2' 'setosa']\n",
            " ['5' '3' '1.6' '0.2' 'setosa']\n",
            " ['5' '3.4' '1.6' '0.4' 'setosa']\n",
            " ['5.2' '3.5' '1.5' '0.2' 'setosa']\n",
            " ['5.2' '3.4' '1.4' '0.2' 'setosa']\n",
            " ['4.7' '3.2' '1.6' '0.2' 'setosa']\n",
            " ['4.8' '3.1' '1.6' '0.2' 'setosa']\n",
            " ['5.4' '3.4' '1.5' '0.4' 'setosa']\n",
            " ['5.2' '4.1' '1.5' '0.1' 'setosa']\n",
            " ['5.5' '4.2' '1.4' '0.2' 'setosa']\n",
            " ['4.9' '3.1' '1.5' '0.1' 'setosa']\n",
            " ['5' '3.2' '1.2' '0.2' 'setosa']\n",
            " ['5.5' '3.5' '1.3' '0.2' 'setosa']\n",
            " ['4.9' '3.1' '1.5' '0.1' 'setosa']\n",
            " ['4.4' '3' '1.3' '0.2' 'setosa']\n",
            " ['5.1' '3.4' '1.5' '0.2' 'setosa']\n",
            " ['5' '3.5' '1.3' '0.3' 'setosa']\n",
            " ['4.5' '2.3' '1.3' '0.3' 'setosa']\n",
            " ['4.4' '3.2' '1.3' '0.2' 'setosa']\n",
            " ['5' '3.5' '1.6' '0.6' 'setosa']\n",
            " ['5.1' '3.8' '1.9' '0.4' 'setosa']\n",
            " ['4.8' '3' '1.4' '0.3' 'setosa']\n",
            " ['5.1' '3.8' '1.6' '0.2' 'setosa']\n",
            " ['4.6' '3.2' '1.4' '0.2' 'setosa']\n",
            " ['5.3' '3.7' '1.5' '0.2' 'setosa']\n",
            " ['5' '3.3' '1.4' '0.2' 'setosa']\n",
            " ['7' '3.2' '4.7' '1.4' 'versicolor']\n",
            " ['6.4' '3.2' '4.5' '1.5' 'versicolor']\n",
            " ['6.9' '3.1' '4.9' '1.5' 'versicolor']\n",
            " ['5.5' '2.3' '4' '1.3' 'versicolor']\n",
            " ['6.5' '2.8' '4.6' '1.5' 'versicolor']\n",
            " ['5.7' '2.8' '4.5' '1.3' 'versicolor']\n",
            " ['6.3' '3.3' '4.7' '1.6' 'versicolor']\n",
            " ['4.9' '2.4' '3.3' '1' 'versicolor']\n",
            " ['6.6' '2.9' '4.6' '1.3' 'versicolor']\n",
            " ['5.2' '2.7' '3.9' '1.4' 'versicolor']\n",
            " ['5' '2' '3.5' '1' 'versicolor']\n",
            " ['5.9' '3' '4.2' '1.5' 'versicolor']\n",
            " ['6' '2.2' '4' '1' 'versicolor']\n",
            " ['6.1' '2.9' '4.7' '1.4' 'versicolor']\n",
            " ['5.6' '2.9' '3.6' '1.3' 'versicolor']\n",
            " ['6.7' '3.1' '4.4' '1.4' 'versicolor']\n",
            " ['5.6' '3' '4.5' '1.5' 'versicolor']\n",
            " ['5.8' '2.7' '4.1' '1' 'versicolor']\n",
            " ['6.2' '2.2' '4.5' '1.5' 'versicolor']\n",
            " ['5.6' '2.5' '3.9' '1.1' 'versicolor']\n",
            " ['5.9' '3.2' '4.8' '1.8' 'versicolor']\n",
            " ['6.1' '2.8' '4' '1.3' 'versicolor']\n",
            " ['6.3' '2.5' '4.9' '1.5' 'versicolor']\n",
            " ['6.1' '2.8' '4.7' '1.2' 'versicolor']\n",
            " ['6.4' '2.9' '4.3' '1.3' 'versicolor']\n",
            " ['6.6' '3' '4.4' '1.4' 'versicolor']\n",
            " ['6.8' '2.8' '4.8' '1.4' 'versicolor']\n",
            " ['6.7' '3' '5' '1.7' 'versicolor']\n",
            " ['6' '2.9' '4.5' '1.5' 'versicolor']\n",
            " ['5.7' '2.6' '3.5' '1' 'versicolor']\n",
            " ['5.5' '2.4' '3.8' '1.1' 'versicolor']\n",
            " ['5.5' '2.4' '3.7' '1' 'versicolor']\n",
            " ['5.8' '2.7' '3.9' '1.2' 'versicolor']\n",
            " ['6' '2.7' '5.1' '1.6' 'versicolor']\n",
            " ['5.4' '3' '4.5' '1.5' 'versicolor']\n",
            " ['6' '3.4' '4.5' '1.6' 'versicolor']\n",
            " ['6.7' '3.1' '4.7' '1.5' 'versicolor']\n",
            " ['6.3' '2.3' '4.4' '1.3' 'versicolor']\n",
            " ['5.6' '3' '4.1' '1.3' 'versicolor']\n",
            " ['5.5' '2.5' '4' '1.3' 'versicolor']\n",
            " ['5.5' '2.6' '4.4' '1.2' 'versicolor']\n",
            " ['6.1' '3' '4.6' '1.4' 'versicolor']\n",
            " ['5.8' '2.6' '4' '1.2' 'versicolor']\n",
            " ['5' '2.3' '3.3' '1' 'versicolor']\n",
            " ['5.6' '2.7' '4.2' '1.3' 'versicolor']\n",
            " ['5.7' '3' '4.2' '1.2' 'versicolor']\n",
            " ['5.7' '2.9' '4.2' '1.3' 'versicolor']\n",
            " ['6.2' '2.9' '4.3' '1.3' 'versicolor']\n",
            " ['5.1' '2.5' '3' '1.1' 'versicolor']\n",
            " ['5.7' '2.8' '4.1' '1.3' 'versicolor']\n",
            " ['6.3' '3.3' '6' '2.5' 'virginica']\n",
            " ['5.8' '2.7' '5.1' '1.9' 'virginica']\n",
            " ['7.1' '3' '5.9' '2.1' 'virginica']\n",
            " ['6.3' '2.9' '5.6' '1.8' 'virginica']\n",
            " ['6.5' '3' '5.8' '2.2' 'virginica']\n",
            " ['7.6' '3' '6.6' '2.1' 'virginica']\n",
            " ['4.9' '2.5' '4.5' '1.7' 'virginica']\n",
            " ['7.3' '2.9' '6.3' '1.8' 'virginica']\n",
            " ['6.7' '2.5' '5.8' '1.8' 'virginica']\n",
            " ['7.2' '3.6' '6.1' '2.5' 'virginica']\n",
            " ['6.5' '3.2' '5.1' '2' 'virginica']\n",
            " ['6.4' '2.7' '5.3' '1.9' 'virginica']\n",
            " ['6.8' '3' '5.5' '2.1' 'virginica']\n",
            " ['5.7' '2.5' '5' '2' 'virginica']\n",
            " ['5.8' '2.8' '5.1' '2.4' 'virginica']\n",
            " ['6.4' '3.2' '5.3' '2.3' 'virginica']\n",
            " ['6.5' '3' '5.5' '1.8' 'virginica']\n",
            " ['7.7' '3.8' '6.7' '2.2' 'virginica']\n",
            " ['7.7' '2.6' '6.9' '2.3' 'virginica']\n",
            " ['6' '2.2' '5' '1.5' 'virginica']\n",
            " ['6.9' '3.2' '5.7' '2.3' 'virginica']\n",
            " ['5.6' '2.8' '4.9' '2' 'virginica']\n",
            " ['7.7' '2.8' '6.7' '2' 'virginica']\n",
            " ['6.3' '2.7' '4.9' '1.8' 'virginica']\n",
            " ['6.7' '3.3' '5.7' '2.1' 'virginica']\n",
            " ['7.2' '3.2' '6' '1.8' 'virginica']\n",
            " ['6.2' '2.8' '4.8' '1.8' 'virginica']\n",
            " ['6.1' '3' '4.9' '1.8' 'virginica']\n",
            " ['6.4' '2.8' '5.6' '2.1' 'virginica']\n",
            " ['7.2' '3' '5.8' '1.6' 'virginica']\n",
            " ['7.4' '2.8' '6.1' '1.9' 'virginica']\n",
            " ['7.9' '3.8' '6.4' '2' 'virginica']\n",
            " ['6.4' '2.8' '5.6' '2.2' 'virginica']\n",
            " ['6.3' '2.8' '5.1' '1.5' 'virginica']\n",
            " ['6.1' '2.6' '5.6' '1.4' 'virginica']\n",
            " ['7.7' '3' '6.1' '2.3' 'virginica']\n",
            " ['6.3' '3.4' '5.6' '2.4' 'virginica']\n",
            " ['6.4' '3.1' '5.5' '1.8' 'virginica']\n",
            " ['6' '3' '4.8' '1.8' 'virginica']\n",
            " ['6.9' '3.1' '5.4' '2.1' 'virginica']\n",
            " ['6.7' '3.1' '5.6' '2.4' 'virginica']\n",
            " ['6.9' '3.1' '5.1' '2.3' 'virginica']\n",
            " ['5.8' '2.7' '5.1' '1.9' 'virginica']\n",
            " ['6.8' '3.2' '5.9' '2.3' 'virginica']\n",
            " ['6.7' '3.3' '5.7' '2.5' 'virginica']\n",
            " ['6.7' '3' '5.2' '2.3' 'virginica']\n",
            " ['6.3' '2.5' '5' '1.9' 'virginica']\n",
            " ['6.5' '3' '5.2' '2' 'virginica']\n",
            " ['6.2' '3.4' '5.4' '2.3' 'virginica']\n",
            " ['5.9' '3' '5.1' '1.8' 'virginica']]\n"
          ]
        }
      ]
    },
    {
      "cell_type": "markdown",
      "metadata": {
        "id": "qT-ROw_GTxEv"
      },
      "source": [
        "#### Manipulowanie danymi\n",
        "* Można podzielić tablice z `array[row, column]`wierszami i kolumnami, z których każda zawiera `(start:stop:step)` jak w tablicach\n",
        "* Możemy określić typ za pomocą `.astype(np.float_)`\n",
        "* Pełna lista typów Numpy znajduje się w dokumentacji\n",
        "* Jeśli utworzymy jednowymiarową tablicę z dwuwymiarowej tablicy numpy, będzie to również tablica numpy tego samego typu."
      ]
    },
    {
      "cell_type": "code",
      "metadata": {
        "id": "XgNX1NBeULj6"
      },
      "source": [
        "#We can slice the array several different ways and generate new variables.\n",
        "\n",
        "irisdata=data[0::,0:4:].astype(np.float_)  #This will select only the first 4 columns and change the type to float\n",
        "irisdata=data[:,0:4].astype(np.float_)\n",
        "iristype=data[0::,4:5:] # This will select only the type. \n",
        "print(irisdata,'\\n',iristype)"
      ],
      "execution_count": null,
      "outputs": []
    },
    {
      "cell_type": "code",
      "metadata": {
        "colab": {
          "base_uri": "https://localhost:8080/"
        },
        "id": "7kC0fePeUY6Z",
        "outputId": "35816e15-f9db-4d7e-901f-2cc9c4b64d72"
      },
      "source": [
        "#This can be used to select column 1 and assign to new variable. \n",
        "#This will sum up column 1\n",
        "newvariable=irisdata[::,0:1:]\n",
        "\n",
        "#This will sum up column 0\n",
        "final=irisdata[::,0:1:].sum()\n",
        "\n",
        "type(newvariable)\n",
        "#print(newvariable)\n",
        "print(final)"
      ],
      "execution_count": null,
      "outputs": [
        {
          "output_type": "stream",
          "name": "stdout",
          "text": [
            "876.5\n"
          ]
        }
      ]
    },
    {
      "cell_type": "code",
      "metadata": {
        "id": "n5mXQDvfUbK-"
      },
      "source": [
        "#This will take the mean of column 1\n",
        "print('mean:', irisdata[::,0:1:].mean())"
      ],
      "execution_count": null,
      "outputs": []
    },
    {
      "cell_type": "markdown",
      "metadata": {
        "id": "_gPVxyu3-_we"
      },
      "source": [
        "### NumPy Broadcasting\n",
        "Wykorzystywany do łaczenie tablic o różnych rozmiarach. Np:"
      ]
    },
    {
      "cell_type": "code",
      "metadata": {
        "colab": {
          "base_uri": "https://localhost:8080/"
        },
        "id": "27I-WfTNQCxw",
        "outputId": "036e0d6a-2439-42b4-a29a-ea68e6188c94"
      },
      "source": [
        "x = np.arange(4)\n",
        "print(x)\n",
        "x+=3\n",
        "print(x)"
      ],
      "execution_count": null,
      "outputs": [
        {
          "output_type": "stream",
          "name": "stdout",
          "text": [
            "[0 1 2 3]\n",
            "[3 4 5 6]\n"
          ]
        }
      ]
    },
    {
      "cell_type": "markdown",
      "metadata": {
        "id": "ccmgMxrtQg1f"
      },
      "source": [
        "![image.png](data:image/png;base64,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)"
      ]
    },
    {
      "cell_type": "code",
      "metadata": {
        "colab": {
          "base_uri": "https://localhost:8080/"
        },
        "id": "ATwt9H6HQkt-",
        "outputId": "cbb374ea-529c-48c0-fa08-b208f9c43d84"
      },
      "source": [
        "x = np.zeros((3,4))\n",
        "y = np.zeros((3,4))\n",
        "(x+y).shape"
      ],
      "execution_count": null,
      "outputs": [
        {
          "output_type": "execute_result",
          "data": {
            "text/plain": [
              "(3, 4)"
            ]
          },
          "metadata": {},
          "execution_count": 70
        }
      ]
    },
    {
      "cell_type": "markdown",
      "metadata": {
        "id": "XIU-iaZIQxIs"
      },
      "source": [
        "![image.png](data:image/png;base64,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)"
      ]
    },
    {
      "cell_type": "markdown",
      "metadata": {
        "id": "-oNdB6kE2y9B"
      },
      "source": [
        "## Generowanie losowych danych Numpy\n",
        "* Jest to często przydatne i użyjemy go do zademonstrowania kilku początkowych technik.\n",
        "* Często potrzebujesz losowych, ale powtarzalnych wyników, aby na przykład test mógł mieć spójną średnią na losowej tablicy. W tym celu musimy ustawić ziarno. Musimy to zrobić tylko raz."
      ]
    },
    {
      "cell_type": "code",
      "metadata": {
        "id": "saLHcs7q2_JV"
      },
      "source": [
        "np.random.seed([2335])\n",
        "a = np.random.uniform(50, 150, 10)  #Between 50-150, generate 10 variables from uniform\n",
        "b = np.random.standard_normal(10)   #With mean 0 and standard deviation 1 \n",
        "print(a)\n",
        "print(b)"
      ],
      "execution_count": null,
      "outputs": []
    }
  ]
}
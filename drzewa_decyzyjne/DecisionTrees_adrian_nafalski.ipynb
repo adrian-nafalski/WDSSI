{
  "nbformat": 4,
  "nbformat_minor": 0,
  "metadata": {
    "colab": {
      "provenance": []
    },
    "kernelspec": {
      "name": "python3",
      "display_name": "Python 3"
    },
    "language_info": {
      "name": "python"
    }
  },
  "cells": [
    {
      "cell_type": "markdown",
      "source": [
        "# Environment configuration"
      ],
      "metadata": {
        "id": "3pg5sQ7PYvm-"
      }
    },
    {
      "cell_type": "code",
      "source": [
        "# To update a package re-install it:\n",
        "! pip uninstall mlxtend -y\n",
        "! pip install -U mlxtend\n",
        "\n",
        "# Now restart: Runtime > Restart Runtime"
      ],
      "metadata": {
        "colab": {
          "base_uri": "https://localhost:8080/"
        },
        "id": "Iql0YmYnYrLS",
        "outputId": "3ab99d52-c5cc-46e7-e100-c0cfa3f35ae8"
      },
      "execution_count": null,
      "outputs": [
        {
          "output_type": "stream",
          "name": "stdout",
          "text": [
            "Found existing installation: mlxtend 0.21.0\n",
            "Uninstalling mlxtend-0.21.0:\n",
            "  Successfully uninstalled mlxtend-0.21.0\n",
            "Looking in indexes: https://pypi.org/simple, https://us-python.pkg.dev/colab-wheels/public/simple/\n",
            "Collecting mlxtend\n",
            "  Using cached mlxtend-0.21.0-py2.py3-none-any.whl (1.3 MB)\n",
            "Requirement already satisfied: scikit-learn>=1.0.2 in /usr/local/lib/python3.9/dist-packages (from mlxtend) (1.2.2)\n",
            "Requirement already satisfied: setuptools in /usr/local/lib/python3.9/dist-packages (from mlxtend) (67.6.1)\n",
            "Requirement already satisfied: scipy>=1.2.1 in /usr/local/lib/python3.9/dist-packages (from mlxtend) (1.10.1)\n",
            "Requirement already satisfied: pandas>=0.24.2 in /usr/local/lib/python3.9/dist-packages (from mlxtend) (1.4.4)\n",
            "Requirement already satisfied: joblib>=0.13.2 in /usr/local/lib/python3.9/dist-packages (from mlxtend) (1.1.1)\n",
            "Requirement already satisfied: matplotlib>=3.0.0 in /usr/local/lib/python3.9/dist-packages (from mlxtend) (3.7.1)\n",
            "Requirement already satisfied: numpy>=1.16.2 in /usr/local/lib/python3.9/dist-packages (from mlxtend) (1.22.4)\n",
            "Requirement already satisfied: pyparsing>=2.3.1 in /usr/local/lib/python3.9/dist-packages (from matplotlib>=3.0.0->mlxtend) (3.0.9)\n",
            "Requirement already satisfied: pillow>=6.2.0 in /usr/local/lib/python3.9/dist-packages (from matplotlib>=3.0.0->mlxtend) (8.4.0)\n",
            "Requirement already satisfied: importlib-resources>=3.2.0 in /usr/local/lib/python3.9/dist-packages (from matplotlib>=3.0.0->mlxtend) (5.12.0)\n",
            "Requirement already satisfied: contourpy>=1.0.1 in /usr/local/lib/python3.9/dist-packages (from matplotlib>=3.0.0->mlxtend) (1.0.7)\n",
            "Requirement already satisfied: kiwisolver>=1.0.1 in /usr/local/lib/python3.9/dist-packages (from matplotlib>=3.0.0->mlxtend) (1.4.4)\n",
            "Requirement already satisfied: packaging>=20.0 in /usr/local/lib/python3.9/dist-packages (from matplotlib>=3.0.0->mlxtend) (23.0)\n",
            "Requirement already satisfied: python-dateutil>=2.7 in /usr/local/lib/python3.9/dist-packages (from matplotlib>=3.0.0->mlxtend) (2.8.2)\n",
            "Requirement already satisfied: fonttools>=4.22.0 in /usr/local/lib/python3.9/dist-packages (from matplotlib>=3.0.0->mlxtend) (4.39.2)\n",
            "Requirement already satisfied: cycler>=0.10 in /usr/local/lib/python3.9/dist-packages (from matplotlib>=3.0.0->mlxtend) (0.11.0)\n",
            "Requirement already satisfied: pytz>=2020.1 in /usr/local/lib/python3.9/dist-packages (from pandas>=0.24.2->mlxtend) (2022.7.1)\n",
            "Requirement already satisfied: threadpoolctl>=2.0.0 in /usr/local/lib/python3.9/dist-packages (from scikit-learn>=1.0.2->mlxtend) (3.1.0)\n",
            "Requirement already satisfied: zipp>=3.1.0 in /usr/local/lib/python3.9/dist-packages (from importlib-resources>=3.2.0->matplotlib>=3.0.0->mlxtend) (3.15.0)\n",
            "Requirement already satisfied: six>=1.5 in /usr/local/lib/python3.9/dist-packages (from python-dateutil>=2.7->matplotlib>=3.0.0->mlxtend) (1.16.0)\n",
            "Installing collected packages: mlxtend\n",
            "Successfully installed mlxtend-0.21.0\n"
          ]
        }
      ]
    },
    {
      "cell_type": "markdown",
      "source": [
        "# Used libraries:\n",
        "\n",
        "* [NumPy](https://numpy.org/):\n",
        "    *     NumPy is a Python library for scientific computing, data analysis, and machine learning. It provides a multidimensional array object and functions for working with arrays efficiently.\n",
        "    * NumPy arrays are homogeneous and can store only a single data type, making them more efficient than Python lists.\n",
        "    * NumPy provides many built-in functions for mathematical operations, such as linear algebra and Fourier transforms.\n",
        "    * NumPy is essential for handling and manipulating large arrays and matrices efficiently, which is important in scientific computing, data analysis, and machine learning.\n",
        "    * Unlike Python lists, which are general data structures that can store any type of data, NumPy arrays are homogeneous and can store only a single data type. This makes them much more efficient and faster to operate on, as the operations can be performed in bulk on the entire array, rather than element-by-element as with lists.\n",
        "\n",
        "* [PANel-DAta-S](https://pandas.pydata.org/)\n",
        "    * Pandas is a Python library used for data manipulation and analysis. It provides a DataFrame object that allows you to store and manipulate tabular data.\n",
        "    * Pandas makes it easy to handle missing or incorrect data in your dataset.\n",
        "    * It provides tools for reshaping, merging, and grouping your data.\n",
        "    * Pandas can read and write data from a variety of file formats, such as CSV, Excel, and SQL databases.\n",
        "    * It has built-in functions for data visualization and analysis, such as plotting and statistical analysis.\n",
        "    * Pandas is widely used in data science, finance, and business analysis for its flexibility and ease of use.\n",
        "    * **How is it different from NumPy arrays?** Allows for heterogenous data (columns can have different data types). Adds some more convenient functions on top that are handy for data processing\n",
        "\n",
        "* [MLxtend](http://rasbt.github.io/mlxtend/)  \"Machine learning extensions\" \n",
        "    * contains some convenience functions for machine learning and data science tasks.\n"
      ],
      "metadata": {
        "id": "zFsbNDUNHFpt"
      }
    },
    {
      "cell_type": "markdown",
      "source": [
        "\n",
        "<img src=\"https://drive.google.com/uc?export=view&id=1VzAF3L4rm66nI-QX-vBNiW4BbRAI_ZwU\" width=700 alt=\"img\"/>"
      ],
      "metadata": {
        "id": "vIeatGisJaaP"
      }
    },
    {
      "cell_type": "markdown",
      "source": [
        "# Intro to Decission Trees\n",
        "\n",
        "What are decission trees?\n",
        "* Decision trees are a supervised machine learning algorithm used for both\n",
        "classification and regression tasks (see below sections).\n",
        "\n",
        "* A white box type of ML algorithm. It shares internal decision-making logic, which is not available in the black box type of algorithms such as with a neural network. Its training time is faster compared to the neural network algorithm.\n",
        "\n",
        "* A decision tree is a tree-like model where each internal node represents a feature or attribute, each branch represents a decision rule, and each leaf node represents a predicted outcome.\n",
        "\n",
        "* It uses binary tree graph (each node has two children) to assign for each data sample a target value. \n",
        "\n",
        "* The target values are presented in the tree leaves. \n",
        "\n",
        "* To reach to the leaf, the sample is propagated through nodes, starting at the root node. \n",
        "\n",
        "* In each node a decision is made, to which descendant node it should go. \n",
        "\n",
        "* A decision is made based on the selected sample’s feature.\n",
        "\n",
        "* Decision Tree learning is a process of finding the optimal rules in each internal tree node according to the selected metric.\n",
        "\n",
        "* The decision tree is a distribution-free or non-parametric method which does NOT depend upon probability distribution assumptions. \n",
        "\n",
        "* Decision trees can handle high-dimensional data with good accuracy.\n",
        "\n",
        "\n",
        "<img src=\"https://drive.google.com/uc?export=view&id=1mb78iaZDwoQ5OmVLRYln2EbaBiCxh6Fm\" width=600 alt=\"img\"/>\n",
        "\n",
        "\n",
        "\n",
        "## Types of decision trees with respect to the target values:\n",
        "\n",
        "* **Classification trees** \n",
        "A classification tree is used when the target variable is categorical or discrete in nature. The tree predicts the class of a new instance by following the path from the root node to a leaf node.\n",
        "In scikit-learn it is `DecisionTreeClassifier`.\n",
        "\n",
        "* **Regression trees** A regression tree is used when the target variable is continuous or numeric in nature. The tree predicts the value of a new instance by following the path from the root node to a leaf node and taking the mean value of the training examples at the leaf node.\n",
        "In scikit-learn it is `DecisionTreeRegressor`.\n",
        "\n",
        "Both types of decision trees follow the same basic structure, with each internal node representing a test on an attribute or feature, and each leaf node representing a class or value. The difference is in the way the tree is constructed and the type of output it produces.\n",
        "\n",
        "## How does the Decision Tree algorithm work?\n",
        "\n",
        "The algorithm for building a decision tree typically involves the following steps:\n",
        "\n",
        "1. **Selecting the best attribute to split the data using Attribute Selection Measures (ASM)**:\n",
        "The goal of the decision tree is to split the data into subsets that are as pure as possible with respect to the target variable.\n",
        "The best attribute for splitting the data is the **one that maximizes the information gain** or the **Gini index**.\n",
        "\n",
        "2. **Creating a new internal node for the selected attribute:**\n",
        "Once the best attribute is selected, a new internal node is created for that attribute. Each branch from this node represents a possible value of the attribute.\n",
        "\n",
        "3. **Splitting the data into subsets:**\n",
        "The data is then split into subsets based on the value of the selected attribute. Each subset is used to create a new internal node, which is connected to the parent node by a branch.\n",
        "\n",
        "4. **Recursively applying the algorithm:**\n",
        "The steps 1-3 are recursively applied to each subset until a stopping criterion is met, such as reaching a maximum depth, a minimum number of instances per leaf node, or a _threshold for the purity_ of the subsets.\n",
        "\n",
        "5. **Assigning a class or value to the leaf nodes:**\n",
        "Once the tree is constructed, the class or value to be assigned to each leaf node is determined based on the majority class or mean value of the instances in the subset.\n",
        "\n",
        "6. **Pruning the tree** (optional): \n",
        "Finally, the tree can be pruned to improve its generalization performance and prevent overfitting. This involves removing branches that do not contribute significantly to the accuracy of the tree.\n",
        "\n",
        "<img src=\"https://drive.google.com/uc?export=view&id=1-rjeTVYph8v63mcHjc44QCs3fOpAwPsE\" width=400 alt=\"img\"/>\n",
        "\n"
      ],
      "metadata": {
        "id": "K5YdJPvx1rRG"
      }
    },
    {
      "cell_type": "markdown",
      "source": [
        "## Glossary:\n",
        "* Basic building block of Decission Tree is one node with `True` and `False` egdes.\n",
        "\n",
        "* Gini<br/>\n",
        "    * $N$ - number of classes\n",
        "    * $P_i$ - probablity of $i^{th}$ class\n",
        "<br/>\n",
        "$$ Gini = \\sum_{i=0}^{N-1} P_i * (1-P_i)$$<br/>\n",
        "\n",
        "* **Entropy** (E) - measure of lack of order \n",
        "$$ E = - \\sum_{i=0}^{i-1} P_i * log_2(P_i), \\mkern9mu E \\in [0,1]$$\n",
        "<br/>\n",
        "$$ P_i = \\frac{\\#\\_of\\_i^{th}\\_class\\_occurence\\_in\\_node}{\\#\\_of\\_total\\_nodes} $$ <br/>\n",
        "Eg. If values in set are split 50/50 then we get the highest entropy $E=1$ \n",
        "\n",
        "> EXAMPLE:\n",
        "> Assuming you are rolling a fair coin and want to know the Entropy of the system. As per the formula given by Shann – Entropy would be equals to $-[0.5 log(0.5) + 0.5 log(0.5)]$. Which is equal to $-0.69$; which is the maximum entropy which can occur in the system. In other words, there will be **maximum randomness** in our dataset if the probable outcomes have same probability of occurrence.\n",
        "\n",
        "* **Information** Gain (IG)\n",
        "$$ IG = E(parent) - [weighted\\_average] * E(children)$$\n",
        "\n",
        ">Example:\n",
        ">\n",
        ">For N=2 so binary classificaotion, $Gini = P_0(1-P_0)+P_1(1-P_1)$ \n",
        ">for $P_1=1-P_0, \\quad Gini = P_0 (1-P_0)+(1-P_0)(1-1+P_0) = 2P_0(1-P_0)$\n",
        "\n",
        "* **Stopping criteria**:\n",
        "    * Max. tree depth\n",
        "    * Min. number of samples a node can have,\n",
        "    * Min. impurity decrease = min. Entropy change that needs to take place for the split to happen\n",
        "\n",
        "\n"
      ],
      "metadata": {
        "id": "k-jHmXI7SW8z"
      }
    },
    {
      "cell_type": "markdown",
      "source": [
        "# How a Decission Tree is constructed?\n",
        "There are many algorithms for constructing Decision Trees but the principle of Greediness is common. Algorithms try to search for a variable which give the maximum information gain or divides the data in the most homogenous way. \n",
        "\n",
        "When a decision algorithm tries to split the data, it selects the variable which will give us maximum reduction in system Entropy.\n",
        "\n",
        "EXAMPLE:\n",
        "```\n",
        "Lead Actor \tGenre \tHit(Y/N)\n",
        "Jon Snow \tAction  Yes\n",
        "Jon Snow \tFiction Yes\n",
        "Jon Snow \tRomance No\n",
        "Jon Snow \tAction  Yes\n",
        "Jon Snow \tAction  No\n",
        "Jon Snow \tFiction No\n",
        "Jon Snow \tRomance Yes\n",
        "```\n",
        "For the example of movie success rate – Initial Entropy in the system was:\n",
        "$EntropyParent = -(0.57*log(0.57) + 0.43*log(0.43))$; Which is $0.68$\n",
        "\n",
        "<img src=\"https://drive.google.com/uc?export=view&id=102YWMUIguyWJ--kNS87okWSPsE4QYP0r\" width=600 alt=\"img\"/>\n",
        "\n",
        "Entropy after Method 1 Split\n",
        "\n",
        "$$Entropyleft = -(.75*log(0.75) + 0.25*log(0.25))  = 0.56$$\n",
        "$$Entropyright = -(.33*log(0.33) + 0.67*log(0.67)) = 0.63$$\n",
        "\n",
        "Captured impurity or entropy after splitting data using Method 1 can be calculated using the following formula: \n",
        "\n",
        "$$Entropy (Parent) – Weighted Average of Children Entropy$$\n",
        "\n",
        "Which is,\n",
        "\n",
        "$$0.68 – (4*0.56 + 3*0.63)/7 = 0.09$$\n",
        "\n",
        "This number $0.09$ is generally known as “Information Gain”\n",
        "\n",
        "Entropy after Method 2 Split\n",
        "\n",
        "$$Entropyleft = -(.67*log(0.67) + 0.33*log(0.33))  = 0.63$$\n",
        "$$Entropymiddle = -(.5*log(0.5) + 0.5*log(0.5))  = 0.69$$\n",
        "$$Entropyright = -(.5*log(0.5) + 0.5*log(0.5))  = 0.69$$\n",
        "\n",
        "Now using the method used above, we can calculate the Information Gain as:\n",
        "\n",
        "$$Information Gain = 0.68 – (3*0.63 + 2*0.69 + 2*0.69)/7 = 0.02$$\n",
        "\n",
        "Hence, we can clearly see that **Method 1 gives us more than 4 times information gain compared to Method 2 and hence Method 1 is the best split variable**.\n"
      ],
      "metadata": {
        "id": "JpKkBPKwxMZE"
      }
    },
    {
      "cell_type": "markdown",
      "source": [
        "### Example implementation\n",
        "For 3 classes lets implementa Gini and check impurity."
      ],
      "metadata": {
        "id": "Yv7SR0WckSS6"
      }
    },
    {
      "cell_type": "code",
      "source": [
        "def gini(samples):\n",
        "    samples_sum = sum(samples)\n",
        "    score = 0\n",
        "    probs = []\n",
        "    for s in samples:\n",
        "        prob = s / samples_sum\n",
        "        probs.append(prob)\n",
        "    for p in probs:\n",
        "        score += p * (1-p)\n",
        "\n",
        "    return score"
      ],
      "metadata": {
        "id": "csnGGyjikaFs"
      },
      "execution_count": null,
      "outputs": []
    },
    {
      "cell_type": "code",
      "source": [
        "samples = [200, 75, 125] # 3 classes numer of elements\n",
        "print(gini(samples))\n",
        "\n",
        "# If we have a sample example with less uncertanity about which class it belongs to:\n",
        "samples1 = [200, 0, 25] # 3 classes numer of elements\n",
        "print(gini(samples1)) # Gini is getting smaller so LESS IMPURE sample in a potential Tree Node\n",
        "\n",
        "samples2 = [200, 0, 0] # 3 classes numer of elements\n",
        "print(gini(samples2)) \n"
      ],
      "metadata": {
        "colab": {
          "base_uri": "https://localhost:8080/"
        },
        "id": "osS6zjIpk4Rk",
        "outputId": "237aea6d-f103-4b15-f06e-e79262aa1cff"
      },
      "execution_count": null,
      "outputs": [
        {
          "output_type": "stream",
          "name": "stdout",
          "text": [
            "0.6171875\n",
            "0.04759071980963714\n",
            "0.0\n"
          ]
        }
      ]
    },
    {
      "cell_type": "markdown",
      "source": [
        "For Entropy:"
      ],
      "metadata": {
        "id": "o5eQIbc0lyiK"
      }
    },
    {
      "cell_type": "code",
      "source": [
        "import math\n",
        "\n",
        "def entropy(samples):\n",
        "    samples_sum = sum(samples)\n",
        "    score = 0\n",
        "    probs = []\n",
        "    for s in samples:\n",
        "        prob = s / samples_sum\n",
        "        probs.append(prob)\n",
        "    for p in probs:\n",
        "        if p > 0:\n",
        "            score += p * math.log(p)\n",
        "    if score != 0:\n",
        "        score *= -1\n",
        "    return score"
      ],
      "metadata": {
        "id": "2fUBACZrl1D4"
      },
      "execution_count": null,
      "outputs": []
    },
    {
      "cell_type": "code",
      "source": [
        "samples = [200, 75, 125] \n",
        "samples1 = [200, 0, 25] \n",
        "samples2 = [200, 0, 0] \n",
        "print(entropy(samples)) \n",
        "print(entropy(samples1)) \n",
        "print(entropy(samples2)) \n"
      ],
      "metadata": {
        "colab": {
          "base_uri": "https://localhost:8080/"
        },
        "id": "jYo0nHmXmOya",
        "outputId": "ca451682-a461-4fff-92e5-8cf3b85d00ad"
      },
      "execution_count": null,
      "outputs": [
        {
          "output_type": "stream",
          "name": "stdout",
          "text": [
            "1.0239287996389363\n",
            "0.34883209584303193\n",
            "0.0\n"
          ]
        }
      ]
    },
    {
      "cell_type": "markdown",
      "source": [
        "## EXAMPLE: Dataset Iris\n",
        "\n",
        "petal = płatek \n",
        "sepal = działka\n",
        "\n",
        "Kielich – najbardziej zewnętrzna część kwiatu, składająca się z okółka zielonych **działek kielicha** (łac. sepala, ang. sepals), które rozwinęły się głównie z normalnych liści podkwiatkowych. Zasadniczą funkcją kielicha jest osłanianie wewnętrznych części kwiatu. \n",
        "\n",
        "<img src=\"https://drive.google.com/uc?export=view&id=1Ts7XW2_QGYfAp289eo7IKm-U_rZ-14Nd\" width=400 alt=\"img\"/>\n",
        "\n",
        "<img src=\"https://drive.google.com/uc?export=view&id=1D5d9Rjx01Cn90e759glGZapYqxWu66-9\" width=800 alt=\"img\"/>"
      ],
      "metadata": {
        "id": "K7FGlNoXkQxb"
      }
    },
    {
      "cell_type": "markdown",
      "source": [
        "# Classification Trees (CT)"
      ],
      "metadata": {
        "id": "Fv_3FnIib_RD"
      }
    },
    {
      "cell_type": "markdown",
      "source": [
        "### Explore Iris Dataset"
      ],
      "metadata": {
        "id": "IPjYiBxSFTb7"
      }
    },
    {
      "cell_type": "code",
      "execution_count": null,
      "metadata": {
        "id": "Hg8y7Mlk1kzN",
        "colab": {
          "base_uri": "https://localhost:8080/"
        },
        "outputId": "3cac0db0-0a49-4508-857e-3f68c3954748"
      },
      "outputs": [
        {
          "output_type": "stream",
          "name": "stdout",
          "text": [
            "dict_keys(['data', 'target', 'frame', 'target_names', 'DESCR', 'feature_names', 'filename', 'data_module'])\n",
            "Iris array shapes:\n",
            "\n",
            "Data shape: (150, 4)\n",
            "Target shape: (150,)\n",
            "\n"
          ]
        }
      ],
      "source": [
        "from sklearn import datasets\n",
        "from sklearn.model_selection import train_test_split\n",
        "import numpy as np\n",
        "\n",
        "\n",
        "iris_data = datasets.load_iris()\n",
        "print(iris_data.keys())\n",
        "\n",
        "print(\"Iris array shapes:\\n\")\n",
        "print(f\"Data shape: {iris_data.data.shape}\")\n",
        "print(f\"Target shape: {iris_data.target.shape}\\n\")"
      ]
    },
    {
      "cell_type": "code",
      "source": [
        "print(\"Data content: \\n\")\n",
        "print(iris_data.data[:3,:])\n",
        "print(np.unique(iris_data.target))\n",
        "print(iris_data.target_names)"
      ],
      "metadata": {
        "colab": {
          "base_uri": "https://localhost:8080/"
        },
        "id": "qqJi2yHX_o2w",
        "outputId": "7855d41b-38fe-4cd1-c1ad-9b7394f54300"
      },
      "execution_count": null,
      "outputs": [
        {
          "output_type": "stream",
          "name": "stdout",
          "text": [
            "Data content: \n",
            "\n",
            "[[5.1 3.5 1.4 0.2]\n",
            " [4.9 3.  1.4 0.2]\n",
            " [4.7 3.2 1.3 0.2]]\n",
            "[0 1 2]\n",
            "['setosa' 'versicolor' 'virginica']\n"
          ]
        }
      ]
    },
    {
      "cell_type": "markdown",
      "source": [
        "## Stratification\n",
        "* Previously, we wrote our own code to shuffle and split a dataset into training, validation, and test subsets, which had one considerable downside.\n",
        "* If we are working with small datasets and split it randomly into subsets, it will affect the class distribution in the samples -- this is problematic since machine learning algorithms/models assume that training, validation, and test samples have been drawn from the same distributions to produce reliable models and estimates of the generalization performance.\n",
        "\n",
        "* The method of ensuring that the class label proportions are the same in each subset after splitting, we use an approach that is usually referred to as \"stratification.\"\n",
        "* Stratification is supported in scikit-learn's `train_test_split` method if we pass the class label array to the `stratify` parameter as shown below."
      ],
      "metadata": {
        "id": "_7nVNCqQWSLU"
      }
    },
    {
      "cell_type": "code",
      "source": [
        "X = iris_data.data[:, [2, 3]]\n",
        "y = iris_data.target\n",
        "\n",
        "X_temp, X_test, y_temp, y_test = \\\n",
        "        train_test_split(X, y, test_size=0.2, \n",
        "                         shuffle=True, random_state=123, stratify=y)\n",
        "\n",
        "np.bincount(y_temp)\n",
        "\n",
        "X_train, X_valid, y_train, y_valid = \\\n",
        "        train_test_split(X_temp, y_temp, test_size=0.2,\n",
        "                         shuffle=True, random_state=123, stratify=y_temp)\n",
        "\n",
        "print('Train size', X_train.shape, 'class proportions', np.bincount(y_train))\n",
        "print('Valid size', X_valid.shape, 'class proportions', np.bincount(y_valid))\n",
        "print('Test size', X_test.shape, 'class proportions', np.bincount(y_test))"
      ],
      "metadata": {
        "colab": {
          "base_uri": "https://localhost:8080/"
        },
        "id": "hxu2KYkS9LLJ",
        "outputId": "8229a0c5-695c-4d44-e0fa-778ccc827469"
      },
      "execution_count": null,
      "outputs": [
        {
          "output_type": "stream",
          "name": "stdout",
          "text": [
            "Train size (96, 2) class proportions [32 32 32]\n",
            "Valid size (24, 2) class proportions [8 8 8]\n",
            "Test size (30, 2) class proportions [10 10 10]\n"
          ]
        }
      ]
    },
    {
      "cell_type": "code",
      "source": [
        "print('Labels counts in y:', np.bincount(y))\n",
        "print('Labels counts in y_train:', np.bincount(y_train))\n",
        "print('Labels counts in y_test:', np.bincount(y_test))"
      ],
      "metadata": {
        "colab": {
          "base_uri": "https://localhost:8080/"
        },
        "id": "dJgbKmQRLZYK",
        "outputId": "bf03e222-fb63-40ac-fed0-31f0546345ba"
      },
      "execution_count": null,
      "outputs": [
        {
          "output_type": "stream",
          "name": "stdout",
          "text": [
            "Labels counts in y: [50 50 50]\n",
            "Labels counts in y_train: [32 32 32]\n",
            "Labels counts in y_test: [10 10 10]\n"
          ]
        }
      ]
    },
    {
      "cell_type": "markdown",
      "source": [
        "Let us use the `scikit learn` library for ready implementations. See documentation for [decision trees](https://scikit-learn.org/stable/modules/tree.html)."
      ],
      "metadata": {
        "id": "s-2pkzsWxxri"
      }
    },
    {
      "cell_type": "code",
      "source": [
        "%matplotlib inline\n",
        "\n",
        "import matplotlib.pyplot as plt\n",
        "from sklearn.tree import DecisionTreeClassifier\n",
        "from mlxtend.plotting import plot_decision_regions\n",
        "\n",
        "\n",
        "tree_clf = DecisionTreeClassifier(criterion='entropy', \n",
        "                              max_depth=2, \n",
        "                              random_state=1)\n",
        "tree_clf.fit(X_train, y_train)"
      ],
      "metadata": {
        "colab": {
          "base_uri": "https://localhost:8080/",
          "height": 75
        },
        "id": "l1xNr7T8LfFI",
        "outputId": "173fc980-9892-4122-cde2-645e1ed48bfa"
      },
      "execution_count": null,
      "outputs": [
        {
          "output_type": "execute_result",
          "data": {
            "text/plain": [
              "DecisionTreeClassifier(criterion='entropy', max_depth=2, random_state=1)"
            ],
            "text/html": [
              "<style>#sk-container-id-1 {color: black;background-color: white;}#sk-container-id-1 pre{padding: 0;}#sk-container-id-1 div.sk-toggleable {background-color: white;}#sk-container-id-1 label.sk-toggleable__label {cursor: pointer;display: block;width: 100%;margin-bottom: 0;padding: 0.3em;box-sizing: border-box;text-align: center;}#sk-container-id-1 label.sk-toggleable__label-arrow:before {content: \"▸\";float: left;margin-right: 0.25em;color: #696969;}#sk-container-id-1 label.sk-toggleable__label-arrow:hover:before {color: black;}#sk-container-id-1 div.sk-estimator:hover label.sk-toggleable__label-arrow:before {color: black;}#sk-container-id-1 div.sk-toggleable__content {max-height: 0;max-width: 0;overflow: hidden;text-align: left;background-color: #f0f8ff;}#sk-container-id-1 div.sk-toggleable__content pre {margin: 0.2em;color: black;border-radius: 0.25em;background-color: #f0f8ff;}#sk-container-id-1 input.sk-toggleable__control:checked~div.sk-toggleable__content {max-height: 200px;max-width: 100%;overflow: auto;}#sk-container-id-1 input.sk-toggleable__control:checked~label.sk-toggleable__label-arrow:before {content: \"▾\";}#sk-container-id-1 div.sk-estimator input.sk-toggleable__control:checked~label.sk-toggleable__label {background-color: #d4ebff;}#sk-container-id-1 div.sk-label input.sk-toggleable__control:checked~label.sk-toggleable__label {background-color: #d4ebff;}#sk-container-id-1 input.sk-hidden--visually {border: 0;clip: rect(1px 1px 1px 1px);clip: rect(1px, 1px, 1px, 1px);height: 1px;margin: -1px;overflow: hidden;padding: 0;position: absolute;width: 1px;}#sk-container-id-1 div.sk-estimator {font-family: monospace;background-color: #f0f8ff;border: 1px dotted black;border-radius: 0.25em;box-sizing: border-box;margin-bottom: 0.5em;}#sk-container-id-1 div.sk-estimator:hover {background-color: #d4ebff;}#sk-container-id-1 div.sk-parallel-item::after {content: \"\";width: 100%;border-bottom: 1px solid gray;flex-grow: 1;}#sk-container-id-1 div.sk-label:hover label.sk-toggleable__label {background-color: #d4ebff;}#sk-container-id-1 div.sk-serial::before {content: \"\";position: absolute;border-left: 1px solid gray;box-sizing: border-box;top: 0;bottom: 0;left: 50%;z-index: 0;}#sk-container-id-1 div.sk-serial {display: flex;flex-direction: column;align-items: center;background-color: white;padding-right: 0.2em;padding-left: 0.2em;position: relative;}#sk-container-id-1 div.sk-item {position: relative;z-index: 1;}#sk-container-id-1 div.sk-parallel {display: flex;align-items: stretch;justify-content: center;background-color: white;position: relative;}#sk-container-id-1 div.sk-item::before, #sk-container-id-1 div.sk-parallel-item::before {content: \"\";position: absolute;border-left: 1px solid gray;box-sizing: border-box;top: 0;bottom: 0;left: 50%;z-index: -1;}#sk-container-id-1 div.sk-parallel-item {display: flex;flex-direction: column;z-index: 1;position: relative;background-color: white;}#sk-container-id-1 div.sk-parallel-item:first-child::after {align-self: flex-end;width: 50%;}#sk-container-id-1 div.sk-parallel-item:last-child::after {align-self: flex-start;width: 50%;}#sk-container-id-1 div.sk-parallel-item:only-child::after {width: 0;}#sk-container-id-1 div.sk-dashed-wrapped {border: 1px dashed gray;margin: 0 0.4em 0.5em 0.4em;box-sizing: border-box;padding-bottom: 0.4em;background-color: white;}#sk-container-id-1 div.sk-label label {font-family: monospace;font-weight: bold;display: inline-block;line-height: 1.2em;}#sk-container-id-1 div.sk-label-container {text-align: center;}#sk-container-id-1 div.sk-container {/* jupyter's `normalize.less` sets `[hidden] { display: none; }` but bootstrap.min.css set `[hidden] { display: none !important; }` so we also need the `!important` here to be able to override the default hidden behavior on the sphinx rendered scikit-learn.org. See: https://github.com/scikit-learn/scikit-learn/issues/21755 */display: inline-block !important;position: relative;}#sk-container-id-1 div.sk-text-repr-fallback {display: none;}</style><div id=\"sk-container-id-1\" class=\"sk-top-container\"><div class=\"sk-text-repr-fallback\"><pre>DecisionTreeClassifier(criterion=&#x27;entropy&#x27;, max_depth=2, random_state=1)</pre><b>In a Jupyter environment, please rerun this cell to show the HTML representation or trust the notebook. <br />On GitHub, the HTML representation is unable to render, please try loading this page with nbviewer.org.</b></div><div class=\"sk-container\" hidden><div class=\"sk-item\"><div class=\"sk-estimator sk-toggleable\"><input class=\"sk-toggleable__control sk-hidden--visually\" id=\"sk-estimator-id-1\" type=\"checkbox\" checked><label for=\"sk-estimator-id-1\" class=\"sk-toggleable__label sk-toggleable__label-arrow\">DecisionTreeClassifier</label><div class=\"sk-toggleable__content\"><pre>DecisionTreeClassifier(criterion=&#x27;entropy&#x27;, max_depth=2, random_state=1)</pre></div></div></div></div></div>"
            ]
          },
          "metadata": {},
          "execution_count": 6
        }
      ]
    },
    {
      "cell_type": "markdown",
      "source": [
        "Scikit-learn provides some functionalities or parameters that are to be used with a Decision Tree classifier to enhance the model’s accuracy in accordance with the given data.\n",
        "\n",
        "* criterion: This parameter is used to measure the quality of the split. The default value for this parameter is set to “Gini”. If you want the measure to be calculated by entropy gain, you can change this parameter to “entropy”.\n",
        "* splitter: This parameter is used to choose the split at each node. If you want the sub-trees to have the best split, you can set this parameter to “best”. We can also have a random split for which the value “random” is set.\n",
        "* max-depth: This is an integer parameter through which we can limit the depth of the tree. The default value for this parameter is set to None.\n",
        "* min_samples_split: This parameter is used to define the minimum number of samples required to split an internal node.\n",
        "* max_leaf_nodes: The default value of max_leaf_nodes is set to None. This parameter is used to grow a tree with max_leaf_nodes in best-first fashion."
      ],
      "metadata": {
        "id": "4jTUyJFRwzK3"
      }
    },
    {
      "cell_type": "code",
      "source": [
        "plot_decision_regions(X_train, y_train, tree_clf)\n",
        "\n",
        "plt.xlabel('petal length [cm]')\n",
        "plt.ylabel('petal width [cm]')\n",
        "plt.legend(loc='upper left')\n",
        "plt.tight_layout()\n",
        "plt.show()"
      ],
      "metadata": {
        "colab": {
          "base_uri": "https://localhost:8080/",
          "height": 487
        },
        "id": "c1RR2ptaXjzt",
        "outputId": "f26c346a-f65b-42a4-e599-16e8462831bd"
      },
      "execution_count": null,
      "outputs": [
        {
          "output_type": "display_data",
          "data": {
            "text/plain": [
              "<Figure size 640x480 with 1 Axes>"
            ],
            "image/png": "[encoded data removed]"
          },
          "metadata": {}
        }
      ]
    },
    {
      "cell_type": "markdown",
      "source": [
        "## Exploratory Data Analysis (EDA)\n",
        "Create DataFrame from raw data:"
      ],
      "metadata": {
        "id": "0cDf8l3HFX2s"
      }
    },
    {
      "cell_type": "code",
      "source": [
        "import pandas as pd\n",
        "\n",
        "# np.c_ is the numpy concatenate function\n",
        "iris_df = pd.DataFrame(data= np.c_[iris_data['data'], iris_data['target']],\n",
        "                      columns= iris_data['feature_names'] + ['target'])\n",
        "\n",
        "print(iris_df.head())"
      ],
      "metadata": {
        "colab": {
          "base_uri": "https://localhost:8080/"
        },
        "id": "DI_8GF-OAOMT",
        "outputId": "fcf6c969-bfa8-45b8-ce2e-4cbd791d097b"
      },
      "execution_count": null,
      "outputs": [
        {
          "output_type": "stream",
          "name": "stdout",
          "text": [
            "   sepal length (cm)  sepal width (cm)  petal length (cm)  petal width (cm)  \\\n",
            "0                5.1               3.5                1.4               0.2   \n",
            "1                4.9               3.0                1.4               0.2   \n",
            "2                4.7               3.2                1.3               0.2   \n",
            "3                4.6               3.1                1.5               0.2   \n",
            "4                5.0               3.6                1.4               0.2   \n",
            "\n",
            "   target  \n",
            "0     0.0  \n",
            "1     0.0  \n",
            "2     0.0  \n",
            "3     0.0  \n",
            "4     0.0  \n"
          ]
        }
      ]
    },
    {
      "cell_type": "markdown",
      "source": [
        "The columns shows the length, width but does not show the group to which this length or width belongs. The group to which these values belong is stored in target_names which can stored in seperate column in our dataframe as.\n",
        "\n"
      ],
      "metadata": {
        "id": "ZB3CkAssGTdz"
      }
    },
    {
      "cell_type": "code",
      "source": [
        "group_names = pd.Series([iris_data.target_names[ind] for ind in iris_data.target], dtype = 'category')\n",
        "\n",
        "iris_df['group'] = group_names\n",
        "\n",
        "\n",
        "iris_df.head()\n"
      ],
      "metadata": {
        "id": "lqKyMXRwGYtd"
      },
      "execution_count": null,
      "outputs": []
    },
    {
      "cell_type": "markdown",
      "source": [
        "Visualizing:"
      ],
      "metadata": {
        "id": "WuZVtl8SGvRd"
      }
    },
    {
      "cell_type": "code",
      "source": [
        "import seaborn as sns\n",
        "\n",
        "import matplotlib.pyplot as plt\n",
        "\n",
        "sns.boxplot(x=\"group\",y=\"petal length (cm)\",data=iris_df)\n",
        "\n",
        "plt.show()"
      ],
      "metadata": {
        "id": "_t09wJZaG3Fj"
      },
      "execution_count": null,
      "outputs": []
    },
    {
      "cell_type": "code",
      "source": [
        "# View the relationships between variables; color code by species type\n",
        "di= {0.0: 'Setosa', 1.0: 'Versicolor', 2.0:'Virginica'} # dictionary\n",
        "\n",
        "before= sns.pairplot(iris_df.replace({'target': di}), hue= 'target')\n",
        "before.fig.suptitle('Pair Plot of the dataset without normalization', y=1.08)"
      ],
      "metadata": {
        "id": "PddpTr9KHeRn"
      },
      "execution_count": null,
      "outputs": []
    },
    {
      "cell_type": "code",
      "source": [
        "from sklearn import tree\n",
        "\n",
        "text_representation = tree.export_text(tree_clf)\n",
        "print(text_representation)\n"
      ],
      "metadata": {
        "id": "2rkCRmK6aslX"
      },
      "execution_count": null,
      "outputs": []
    },
    {
      "cell_type": "code",
      "source": [
        "from sklearn.tree import plot_tree\n",
        "\n",
        "\n",
        "plt.figure(figsize=(10, 7))\n",
        "\n",
        "plot_tree(tree_clf, \n",
        "          filled=True, \n",
        "          rounded=True,\n",
        "          class_names=['Setosa', 'Versicolor', 'Virginica'],\n",
        "          feature_names=['petal length', 'petal width']) \n",
        "\n",
        "plt.show()"
      ],
      "metadata": {
        "id": "h7mMS_d7MDZM"
      },
      "execution_count": null,
      "outputs": []
    },
    {
      "cell_type": "code",
      "source": [
        "! pip install graphviz dtreeviz"
      ],
      "metadata": {
        "id": "Iq3jWsHjbYxe"
      },
      "execution_count": null,
      "outputs": []
    },
    {
      "cell_type": "code",
      "source": [
        "import dtreeviz  # remember to load the package\n",
        "\n",
        "viz_model = dtreeviz.model(tree_clf, X, y,\n",
        "                target_name=\"target\",\n",
        "                feature_names=iris_data.feature_names,\n",
        "                class_names=list(iris_data.target_names))\n",
        "\n",
        "viz_model.view()     # render as SVG into internal object "
      ],
      "metadata": {
        "id": "4fskPIp2bPG_"
      },
      "execution_count": null,
      "outputs": []
    },
    {
      "cell_type": "code",
      "source": [
        "! pip uninstall -y matplotlib\n",
        "! pip install matplotlib"
      ],
      "metadata": {
        "id": "0mJ19qOEd-X4"
      },
      "execution_count": null,
      "outputs": []
    },
    {
      "cell_type": "code",
      "source": [
        "import matplotlib as mpl\n",
        "import matplotlib.font_manager as fm\n",
        "from matplotlib import font_manager as fm, pyplot as plt\n",
        "\n",
        "!wget https://github.com/matomo-org/travis-scripts/blob/master/fonts/Arial.ttf \n",
        "\n",
        "font_files = fm.findSystemFonts()\n",
        "\n",
        "# Go through and add each to Matplotlib's font cache.\n",
        "for font_file in font_files:\n",
        "    fm.fontManager.addfont(font_file)\n",
        "\n",
        "\n",
        "t = np.arange(0.0, 2.0, 0.01)\n",
        "s = 1 + np.sin(2*np.pi*t)\n",
        "\n",
        "plt.plot(t, s)\n",
        "\n",
        "plt.xlabel('time (s)')\n",
        "plt.ylabel('voltage (mV)')\n",
        "plt.title('About as simple as it gets, folks')\n",
        "plt.show()"
      ],
      "metadata": {
        "id": "8OtRrQuRd6De"
      },
      "execution_count": null,
      "outputs": []
    },
    {
      "cell_type": "markdown",
      "source": [
        "Exemplary decission tree based on Iris dataset:\n",
        "\n",
        "<img src=\"https://drive.google.com/uc?export=view&id=1OjOwlUJan12OARb0j0Qr2RoAM_zuJ6ka\" width=400 alt=\"img\"/>"
      ],
      "metadata": {
        "id": "o4JyeEXnJgUS"
      }
    },
    {
      "cell_type": "markdown",
      "source": [
        "\n",
        "---- \n",
        "# Assigment:\n",
        "Implement `DecisionTree` class that can be used in below script for training:\n",
        "\n",
        "<img src=\"https://drive.google.com/uc?export=view&id=1e_TdQOIMqyvywpOqmgWDwDkMp4EJ7niZ\" width=500 alt=\"img\"/>\n",
        "\n",
        "Use ONLY Python + NumPy library to fill the following template of the class:\n",
        "\n",
        "<img src=\"https://drive.google.com/uc?export=view&id=1Fesja1OaqwIkl6wRbO255qNhDyr5xize\" width=600 alt=\"img\"/>\n",
        "\n"
      ],
      "metadata": {
        "id": "nhQv1aEp8jni"
      }
    },
    {
      "cell_type": "markdown",
      "source": [
        "# My implementation DecisionTree"
      ],
      "metadata": {
        "id": "ewSDRBHBYBV4"
      }
    },
    {
      "cell_type": "code",
      "source": [
        "\"\"\"\n",
        "Completed DecisionTree\n",
        "\"\"\"\n",
        "\n",
        "import numpy as np\n",
        "from collections import Counter\n",
        "\n",
        "class Node:\n",
        "    def __init__(self, feature=None, threshold=None, left=None, right=None, *, value=None):\n",
        "        self.feature = feature\n",
        "        self.threshold = threshold\n",
        "        self.left = left\n",
        "        self.right = right\n",
        "        self.value = value\n",
        "    \n",
        "    def is_leaf_node(self):\n",
        "        return self.value is not None\n",
        "\n",
        "\n",
        "class DecisionTree:\n",
        "    def __init__(self, min_samples_split=2, max_depth=100, n_features=None):\n",
        "        self.min_samples_split = min_samples_split\n",
        "        self.max_depth = max_depth\n",
        "        self.n_features = n_features\n",
        "        self.root = None\n",
        "    \n",
        "    def fit(self, X, y):\n",
        "        self.n_features = X.shape[1] if not self.n_features else min(self.n_features, X.shape[1])\n",
        "        self.root = self._grow_tree(X, y)\n",
        "\n",
        "    def _grow_tree(self, X, y, depth=0):\n",
        "        n_samples, n_features = X.shape\n",
        "        n_labels = len(np.unique(y))\n",
        "    \n",
        "        # Pierwszy warunek stopu: drzewo osiągnęło maksymalną głębokość lub nie można podzielić węzła\n",
        "        if depth >= self.max_depth or n_labels == 1 or n_samples < self.min_samples_split:\n",
        "            leaf_value = self._most_common_label(y)\n",
        "            return Node(value=leaf_value)\n",
        "\n",
        "        feat_idxs = np.random.choice(n_features, self.n_features, replace=False)\n",
        "        best_feat, best_thresh, (left_idxs, right_idxs) = self._best_split(X, y, feat_idxs)\n",
        "\n",
        "        # Drugi warunek stopu: nie można znaleźć najlepszego podziału\n",
        "        if left_idxs.sum() == 0 or right_idxs.sum() == 0:\n",
        "            leaf_value = self._most_common_label(y)\n",
        "            return Node(value=leaf_value)\n",
        "\n",
        "        left = self._grow_tree(X[left_idxs], y[left_idxs], depth + 1)\n",
        "        right = self._grow_tree(X[right_idxs], y[right_idxs], depth + 1)\n",
        "        \n",
        "        return Node(best_feat, best_thresh, left, right)\n",
        "\n",
        "    def _best_split(self, X, y, feat_idxs):\n",
        "        best_gain = -np.inf\n",
        "        split_idx, split_thresh = None, None\n",
        "        for i in feat_idxs:\n",
        "            vals = X[:, i]\n",
        "            for threshold in np.unique(vals):\n",
        "                gain = self._information_gain(y, vals, threshold)\n",
        "                if gain > best_gain:\n",
        "                    best_gain = gain\n",
        "                    split_idx = i\n",
        "                    split_thresh = threshold\n",
        "        left_idxs = X[:, split_idx] <= split_thresh\n",
        "        right_idxs = X[:, split_idx] > split_thresh\n",
        "        \n",
        "        return split_idx, split_thresh, (left_idxs, right_idxs)\n",
        "\n",
        "    def _information_gain(self, y, X_column, threshold):\n",
        "        # Obliczanie entropii rodzica\n",
        "        parent_entropy = self._entropy(y)\n",
        "\n",
        "        # Podział danych na podstawie wartości progowej\n",
        "        left_idxs = X_column <= threshold\n",
        "        right_idxs = X_column > threshold\n",
        "        left_y, right_y = y[left_idxs], y[right_idxs]\n",
        "\n",
        "        # Obliczanie entropii dzieci\n",
        "        left_entropy = self._entropy(left_y)\n",
        "        right_entropy = self._entropy(right_y)\n",
        "\n",
        "        # Obliczanie wartości zysku z informacji\n",
        "        n = len(y)\n",
        "        n_l, n_r = len(left_y), len(right_y)\n",
        "        child_entropy = (n_l/n) * left_entropy + (n_r/n) * right_entropy\n",
        "        information_gain = parent_entropy - child_entropy\n",
        "\n",
        "        return information_gain\n",
        "\n",
        "    def _split(self, X_column, split_thresh):\n",
        "        left_indices = np.where(X_column <= split_thresh)[0]\n",
        "        right_indices = np.where(X_column > split_thresh)[0]\n",
        "        \n",
        "        return left_indices, right_indices\n",
        "\n",
        "    def _entropy(self, y):\n",
        "        hist = np.bincount(y)\n",
        "        ps = hist / len(y)\n",
        "        return -np.sum([p * np.log(p) for p in ps if p>0])\n",
        "\n",
        "    def _traverse_tree(self, x, node):\n",
        "        node = self.root\n",
        "        while not node.is_leaf_node():\n",
        "            if x[node.feature] <= node.threshold:\n",
        "                node = node.left\n",
        "            else:\n",
        "                node = node.right\n",
        "        return node.value\n",
        "\n",
        "    def _most_common_label(self, y):\n",
        "        labels, counts = np.unique(y, return_counts=True)\n",
        "        return labels[np.argmax(counts)]\n",
        "\n",
        "    def predict(self, X):\n",
        "        return np.array([self._traverse_tree(x, self.root) for x in X])"
      ],
      "metadata": {
        "id": "DXnBCtTB8oGv"
      },
      "execution_count": 27,
      "outputs": []
    },
    {
      "cell_type": "code",
      "source": [
        "\"\"\"\n",
        "Training\n",
        "\"\"\"\n",
        "\n",
        "from sklearn import datasets\n",
        "from sklearn.model_selection import train_test_split\n",
        "# from decision_tree import DecisionTree\n",
        "import numpy as np\n",
        "\n",
        "data = datasets.load_iris()\n",
        "X, y = data.data, data.target\n",
        "\n",
        "X_train, X_test, y_train, y_test = train_test_split(\n",
        "    X, y, test_size=0.2, random_state=1234\n",
        ")\n",
        "\n",
        "clf = DecisionTree(max_depth=10)\n",
        "clf.fit(X_train, y_train)\n",
        "predictions = clf.predict(X_test)\n",
        "\n",
        "def accuracy(Y_test, y_pred):\n",
        "    return np.sum(y_test == y_pred) / len(y_test)\n",
        "\n",
        "acc = accuracy(y_test, predictions)\n",
        "print(acc)"
      ],
      "metadata": {
        "id": "EUkLLae7YIqo",
        "outputId": "cb2a8538-ca89-40c7-e8de-a2bb504087a2",
        "colab": {
          "base_uri": "https://localhost:8080/"
        }
      },
      "execution_count": 29,
      "outputs": [
        {
          "output_type": "stream",
          "name": "stdout",
          "text": [
            "1.0\n"
          ]
        }
      ]
    }
  ]
}